{
 "cells": [
  {
   "cell_type": "markdown",
   "metadata": {},
   "source": [
    "# Tutorial for using POP data base"
   ]
  },
  {
   "cell_type": "code",
   "execution_count": 1,
   "metadata": {},
   "outputs": [],
   "source": [
    "using POP, DynamicPolynomials"
   ]
  },
  {
   "cell_type": "markdown",
   "metadata": {},
   "source": [
    "We construct the Moztkin polynomial using the package DynamicPolynomials"
   ]
  },
  {
   "cell_type": "code",
   "execution_count": 2,
   "metadata": {},
   "outputs": [
    {
     "data": {
      "text/latex": [
       "$$ x^{4}y^{2} + x^{2}y^{4} - 3x^{2}y^{2} + 1 $$"
      ],
      "text/plain": [
       "x⁴y² + x²y⁴ - 3x²y² + 1"
      ]
     },
     "execution_count": 2,
     "metadata": {},
     "output_type": "execute_result"
    }
   ],
   "source": [
    "X = @polyvar x y\n",
    "motz = x^4*y^2 + x^2*y^4 + 1 - 3x^2*y^2"
   ]
  },
  {
   "cell_type": "markdown",
   "metadata": {},
   "source": [
    "We define a Polynomial Optimization Problem, with objective Motzkin polynomial."
   ]
  },
  {
   "cell_type": "code",
   "execution_count": 3,
   "metadata": {},
   "outputs": [
    {
     "data": {
      "text/plain": [
       "\"Motzkin\""
      ]
     },
     "execution_count": 3,
     "metadata": {},
     "output_type": "execute_result"
    }
   ],
   "source": [
    "Motz = pop([(motz,\"inf\")],X)\n",
    "Motz[:name] = \"Motzkin\""
   ]
  },
  {
   "cell_type": "markdown",
   "metadata": {},
   "source": [
    "Now we register it, in a file named `motzkin.json`"
   ]
  },
  {
   "cell_type": "code",
   "execution_count": 4,
   "metadata": {},
   "outputs": [
    {
     "name": "stderr",
     "output_type": "stream",
     "text": [
      "┌ Info: POP clone https://github.com/PolynomialOptimization/data\n",
      "└ @ POP /Users/mourrain/Julia/POP.jl/src/register.jl:22\n",
      "┌ Info: POP clone https://github.com/PolynomialOptimization/registries\n",
      "└ @ POP /Users/mourrain/Julia/POP.jl/src/register.jl:34\n",
      "┌ Info: POP register data motzkin\n",
      "└ @ POP /Users/mourrain/Julia/POP.jl/src/register.jl:106\n"
     ]
    },
    {
     "data": {
      "text/plain": [
       "(UUID(\"31d73a0a-83d4-11ea-3fa1-f7f3cd4e127c\"), \"motzkin\")"
      ]
     },
     "execution_count": 4,
     "metadata": {},
     "output_type": "execute_result"
    }
   ],
   "source": [
    "u, file = register(Motz, file=\"motzkin\")"
   ]
  },
  {
   "cell_type": "markdown",
   "metadata": {},
   "source": [
    "The data is stored in data project `POP.GIT_DATA_URL` as the file `pop/motzkin.json`. The index tables of the registry project `POP.GIT_REGISTRY_URL`are update with a line per data. A local version of the data bases and index files are updated and wWe use `git` command to commit and push the changes on the `git`projects."
   ]
  },
  {
   "cell_type": "markdown",
   "metadata": {},
   "source": [
    "The tables in the registery project are available with the function `gettable`. The default table is a table of triplets (uuid , url of the data, url of the documentation):"
   ]
  },
  {
   "cell_type": "code",
   "execution_count": 5,
   "metadata": {},
   "outputs": [
    {
     "data": {
      "text/plain": [
       "Table with 2 rows, 4 columns:\n",
       "Columns:\n",
       "\u001b[1m#  \u001b[22m\u001b[1mcolname  \u001b[22m\u001b[1mtype\u001b[22m\n",
       "──────────────────\n",
       "1  uuid     String\n",
       "2  name     String\n",
       "3  url      String\n",
       "4  doc      String"
      ]
     },
     "execution_count": 5,
     "metadata": {},
     "output_type": "execute_result"
    }
   ],
   "source": [
    "popidx = gettable()"
   ]
  },
  {
   "cell_type": "markdown",
   "metadata": {},
   "source": [
    "The table `PolynomialOptimizationProblems` contains the uuid of the POP and its main features such as \n",
    "\n",
    " - nv: number of variables\n",
    " - no: number of objective function $\\in \\{0,1\\}$\n",
    " - do: degree of the objective function\n",
    " - ...\n",
    "    "
   ]
  },
  {
   "cell_type": "code",
   "execution_count": 6,
   "metadata": {},
   "outputs": [
    {
     "data": {
      "text/plain": [
       "Table with 2 rows, 9 columns:\n",
       "uuid                                    name        nv  no  do  nz  dz  ns  ds\n",
       "──────────────────────────────────────────────────────────────────────────────\n",
       "\"83c94e7a-f3ab-5447-9af7-d94c0b1920cf\"  \"Example0\"  2   1   4   0   -1  1   2\n",
       "\"31d73a0a-83d4-11ea-3fa1-f7f3cd4e127c\"  \"Motzkin\"   2   1   6   0   -1  0   -1  "
      ]
     },
     "execution_count": 6,
     "metadata": {},
     "output_type": "execute_result"
    }
   ],
   "source": [
    "poppty = gettable(\"PolynomialOptimizationProblems\")"
   ]
  }
 ],
 "metadata": {
  "@webio": {
   "lastCommId": null,
   "lastKernelId": null
  },
  "kernelspec": {
   "display_name": "Julia 1.3.1",
   "language": "julia",
   "name": "julia-1.3"
  },
  "language_info": {
   "file_extension": ".jl",
   "mimetype": "application/julia",
   "name": "julia",
   "version": "1.3.1"
  }
 },
 "nbformat": 4,
 "nbformat_minor": 2
}
