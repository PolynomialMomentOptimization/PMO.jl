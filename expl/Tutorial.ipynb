{
 "cells": [
  {
   "cell_type": "markdown",
   "metadata": {},
   "source": [
    "# Tutorial for using POP data base"
   ]
  },
  {
   "cell_type": "code",
   "execution_count": 1,
   "metadata": {},
   "outputs": [],
   "source": [
    "using POP, DynamicPolynomials"
   ]
  },
  {
   "cell_type": "code",
   "execution_count": 2,
   "metadata": {},
   "outputs": [
    {
     "data": {
      "text/latex": [
       "$$ x^{4}y^{2} + x^{2}y^{4} - 3x^{2}y^{2} + 1 $$"
      ],
      "text/plain": [
       "x⁴y² + x²y⁴ - 3x²y² + 1"
      ]
     },
     "execution_count": 2,
     "metadata": {},
     "output_type": "execute_result"
    }
   ],
   "source": [
    "X = @polyvar x y\n",
    "motz = x^4*y^2 + x^2*y^4 + 1 - 3x^2*y^2"
   ]
  },
  {
   "cell_type": "code",
   "execution_count": 3,
   "metadata": {},
   "outputs": [
    {
     "data": {
      "text/plain": [
       "\"Motzkin\""
      ]
     },
     "execution_count": 3,
     "metadata": {},
     "output_type": "execute_result"
    }
   ],
   "source": [
    "Motz = pop([(motz,\"inf\")],X)\n",
    "Motz[:name] = \"Motzkin\""
   ]
  },
  {
   "cell_type": "code",
   "execution_count": 4,
   "metadata": {},
   "outputs": [
    {
     "name": "stderr",
     "output_type": "stream",
     "text": [
      "┌ Info: POP clone https://github.com/PolynomialOptimization/data\n",
      "└ @ POP /Users/mourrain/Julia/POP.jl/src/register.jl:22\n",
      "┌ Info: POP clone https://github.com/PolynomialOptimization/registries\n",
      "└ @ POP /Users/mourrain/Julia/POP.jl/src/register.jl:34\n",
      "┌ Info: POP register data motzkin\n",
      "└ @ POP /Users/mourrain/Julia/POP.jl/src/register.jl:106\n"
     ]
    },
    {
     "data": {
      "text/plain": [
       "(UUID(\"31d73a0a-83d4-11ea-3fa1-f7f3cd4e127c\"), \"motzkin\")"
      ]
     },
     "execution_count": 4,
     "metadata": {},
     "output_type": "execute_result"
    }
   ],
   "source": [
    "u, file = register(Motz, file=\"motzkin\")"
   ]
  },
  {
   "cell_type": "code",
   "execution_count": 5,
   "metadata": {},
   "outputs": [
    {
     "data": {
      "text/plain": [
       "Table with 2 rows, 3 columns:\n",
       "Columns:\n",
       "\u001b[1m#  \u001b[22m\u001b[1mcolname  \u001b[22m\u001b[1mtype\u001b[22m\n",
       "──────────────────\n",
       "1  uuid     String\n",
       "2  url      String\n",
       "3  doc      String"
      ]
     },
     "execution_count": 5,
     "metadata": {},
     "output_type": "execute_result"
    }
   ],
   "source": [
    "popidx = gettable()"
   ]
  },
  {
   "cell_type": "code",
   "execution_count": 6,
   "metadata": {},
   "outputs": [
    {
     "data": {
      "text/plain": [
       "Table with 2 rows, 9 columns:\n",
       "uuid                                    nv  no  do  nz  dz  ns  ds  name\n",
       "──────────────────────────────────────────────────────────────────────────────\n",
       "\"83c94e7a-f3ab-5447-9af7-d94c0b1920cf\"  2   1   4   0   -1  1   2   \"Example0\"\n",
       "\"31d73a0a-83d4-11ea-3fa1-f7f3cd4e127c\"  2   1   6   0   -1  0   -1  \"Motzkin\""
      ]
     },
     "execution_count": 6,
     "metadata": {},
     "output_type": "execute_result"
    }
   ],
   "source": [
    "poppty = gettable(\"PolynomialOptimizationProblems\")"
   ]
  }
 ],
 "metadata": {
  "@webio": {
   "lastCommId": null,
   "lastKernelId": null
  },
  "kernelspec": {
   "display_name": "Julia 1.3.1",
   "language": "julia",
   "name": "julia-1.3"
  },
  "language_info": {
   "file_extension": ".jl",
   "mimetype": "application/julia",
   "name": "julia",
   "version": "1.3.1"
  }
 },
 "nbformat": 4,
 "nbformat_minor": 2
}
