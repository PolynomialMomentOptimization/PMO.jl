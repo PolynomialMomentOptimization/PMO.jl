{
 "cells": [
  {
   "cell_type": "markdown",
   "metadata": {},
   "source": [
    "# Tutorial for using PMO database"
   ]
  },
  {
   "cell_type": "code",
   "execution_count": 1,
   "metadata": {},
   "outputs": [],
   "source": [
    "using PMO, DynamicPolynomials"
   ]
  },
  {
   "cell_type": "markdown",
   "metadata": {},
   "source": [
    "We construct the Moztkin polynomial using the package DynamicPolynomials"
   ]
  },
  {
   "cell_type": "code",
   "execution_count": 2,
   "metadata": {},
   "outputs": [
    {
     "data": {
      "text/latex": [
       "$$ x^{4}y^{2} + x^{2}y^{4} - 3x^{2}y^{2} + 1 $$"
      ],
      "text/plain": [
       "x⁴y² + x²y⁴ - 3x²y² + 1"
      ]
     },
     "execution_count": 2,
     "metadata": {},
     "output_type": "execute_result"
    }
   ],
   "source": [
    "X = @polyvar x y\n",
    "motz = x^4*y^2 + x^2*y^4 + 1 - 3x^2*y^2"
   ]
  },
  {
   "cell_type": "markdown",
   "metadata": {},
   "source": [
    "We define a Polynomial Moment Optimization Problem, with objective Motzkin polynomial."
   ]
  },
  {
   "cell_type": "code",
   "execution_count": 3,
   "metadata": {},
   "outputs": [
    {
     "data": {
      "text/plain": [
       "\"Motzkin\""
      ]
     },
     "execution_count": 3,
     "metadata": {},
     "output_type": "execute_result"
    }
   ],
   "source": [
    "Motz = pmo_pol((motz,\"inf\"))\n",
    "Motz[:name] = \"Motzkin\""
   ]
  },
  {
   "cell_type": "markdown",
   "metadata": {},
   "source": [
    "Now we register it, in a file named `Motzkin.json`"
   ]
  },
  {
   "cell_type": "code",
   "execution_count": 4,
   "metadata": {},
   "outputs": [
    {
     "name": "stderr",
     "output_type": "stream",
     "text": [
      "┌ Info: PMO update data\n",
      "└ @ PMO /Users/mourrain/Julia/PMO.jl/src/register.jl:25\n",
      "┌ Info: PMO add data file \"pmo/motzkin0.json\"\n",
      "└ @ PMO /Users/mourrain/Julia/PMO.jl/src/register.jl:60\n",
      "┌ Info: PMO update registries\n",
      "└ @ PMO /Users/mourrain/Julia/PMO.jl/src/register.jl:37\n",
      "┌ Info: PMO register data motzkin0\n",
      "└ @ PMO /Users/mourrain/Julia/PMO.jl/src/register.jl:109\n"
     ]
    },
    {
     "data": {
      "text/plain": [
       "(UUID(\"d348019a-95ee-11ea-2759-c312cc21f8d8\"), \"motzkin0\")"
      ]
     },
     "execution_count": 4,
     "metadata": {},
     "output_type": "execute_result"
    }
   ],
   "source": [
    "u, file = register(Motz, file=\"motzkin0\")"
   ]
  },
  {
   "cell_type": "markdown",
   "metadata": {},
   "source": [
    "The data is stored in data project `PMO_GIT_DATA_URL` as the file `pmo/motzkin.json`. The index tables of the registry project `PMO_GIT_REGISTRY_URL`are update with a line per data. A local version of the data bases and index files are updated and wWe use `git` command to commit and push the changes on the `git`projects."
   ]
  },
  {
   "cell_type": "markdown",
   "metadata": {},
   "source": [
    "The tables in the registery project are available with the function `gettable`. The default table is a table of triplets (uuid , url of the data, url of the documentation):"
   ]
  },
  {
   "cell_type": "code",
   "execution_count": 5,
   "metadata": {},
   "outputs": [
    {
     "data": {
      "text/plain": [
       "Table with 4 rows, 4 columns:\n",
       "Columns:\n",
       "\u001b[1m#  \u001b[22m\u001b[1mcolname  \u001b[22m\u001b[1mtype\u001b[22m\n",
       "──────────────────\n",
       "1  uuid     String\n",
       "2  name     String\n",
       "3  url      String\n",
       "4  doc      String"
      ]
     },
     "execution_count": 5,
     "metadata": {},
     "output_type": "execute_result"
    }
   ],
   "source": [
    "pmotbl = gettable()"
   ]
  }
 ],
 "metadata": {
  "@webio": {
   "lastCommId": null,
   "lastKernelId": null
  },
  "kernelspec": {
   "display_name": "Julia 1.3.1",
   "language": "julia",
   "name": "julia-1.3"
  },
  "language_info": {
   "file_extension": ".jl",
   "mimetype": "application/julia",
   "name": "julia",
   "version": "1.3.1"
  }
 },
 "nbformat": 4,
 "nbformat_minor": 2
}
