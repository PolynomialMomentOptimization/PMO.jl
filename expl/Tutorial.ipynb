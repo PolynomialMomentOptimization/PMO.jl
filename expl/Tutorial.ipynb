{
 "cells": [
  {
   "cell_type": "markdown",
   "metadata": {},
   "source": [
    "# Tutorial for using PMO database\n",
    "\n",
    "We illustrate briefly the main functionality of the package `PMO.jl` dedicated to Polynomial & Moment Optimization problems. \n",
    "\n",
    "## Polynomial data"
   ]
  },
  {
   "cell_type": "code",
   "execution_count": 1,
   "metadata": {},
   "outputs": [
    {
     "data": {
      "text/plain": [
       "\"A first polynomial example two sign constraints and one equality constraint.\\n\""
      ]
     },
     "execution_count": 1,
     "metadata": {},
     "output_type": "execute_result"
    }
   ],
   "source": [
    "using PMO, DynamicPolynomials\n",
    "\n",
    "X = @polyvar x y\n",
    "\n",
    "o = x^2*y^2+x^4-y^3\n",
    "g1  = x^2 + Float64(pi)*y^2 -2\n",
    "g2 = x\n",
    "\n",
    "h1 = 2*y^2-y\n",
    "\n",
    "\n",
    "F  = PMO.polynomial((o,\"inf\"),\n",
    "                    (g1,\"<=0\"),\n",
    "                    (g2,\">=0\"),\n",
    "                    (h1,\"=0\"))\n",
    "\n",
    "F[\"doc\"]= \n",
    "\"\"\"\n",
    "A first polynomial example two sign constraints and one equality constraint.\n",
    "\"\"\""
   ]
  },
  {
   "cell_type": "markdown",
   "metadata": {},
   "source": [
    "This object of type `PMOData` can be printed and saved in json format as follows:"
   ]
  },
  {
   "cell_type": "code",
   "execution_count": 2,
   "metadata": {},
   "outputs": [
    {
     "name": "stdout",
     "output_type": "stream",
     "text": [
      "{\n",
      "  \"type\": \"polynomial\",\n",
      "  \"variables\": [\n",
      "    \"x\",\n",
      "    \"y\"\n",
      "  ],\n",
      "  \"nvar\": 2,\n",
      "  \"constraints\": [\n",
      "    {\n",
      "      \"set\": \"<=0\",\n",
      "      \"polynomial\": {\n",
      "        \"coeftype\": \"Float64\",\n",
      "        \"terms\": [\n",
      "          [1.0,[2],[1]],\n",
      "          [3.141592653589793,[2],[2]],\n",
      "          [-2.0]\n",
      "        ]\n",
      "      }\n",
      "    },\n",
      "    {\n",
      "      \"set\": \">=0\",\n",
      "      \"polynomial\": {\n",
      "        \"coeftype\": \"Int64\",\n",
      "        \"terms\": [\n",
      "          [1,[1],[1]]\n",
      "        ]\n",
      "      }\n",
      "    },\n",
      "    {\n",
      "      \"set\": \"=0\",\n",
      "      \"polynomial\": {\n",
      "        \"coeftype\": \"Int64\",\n",
      "        \"terms\": [\n",
      "          [2,[2],[2]],\n",
      "          [-1,[1],[2]]\n",
      "        ]\n",
      "      }\n",
      "    }\n",
      "  ],\n",
      "  \"objective\": {\n",
      "    \"set\": \"inf\",\n",
      "    \"polynomial\": {\n",
      "      \"coeftype\": \"Int64\",\n",
      "      \"terms\": [\n",
      "        [1,[4],[1]],\n",
      "        [1,[2,2]],\n",
      "        [-1,[3],[2]]\n",
      "      ]\n",
      "    }\n",
      "  },\n",
      "  \"version\": \"0.0.1\",\n",
      "  \"uuid\": \"99902d7c-9695-11ea-1a29-5d718abc546e\",\n",
      "  \"doc\": \"A first polynomial example two sign constraints and one equality constraint.\\n\"\n",
      "}\n"
     ]
    }
   ],
   "source": [
    "using JSON\n",
    "JSON.print(F)\n",
    "PMO.save(\"tmp.json\",F)"
   ]
  },
  {
   "cell_type": "markdown",
   "metadata": {},
   "source": [
    "We read the data saved in the file `tmp.json` and built the corresponding data `G` of type `PMOData`, which `json` format is the same as the one of `F`."
   ]
  },
  {
   "cell_type": "code",
   "execution_count": 3,
   "metadata": {},
   "outputs": [
    {
     "name": "stdout",
     "output_type": "stream",
     "text": [
      "{\n",
      "  \"type\": \"polynomial\",\n",
      "  \"variables\": [\n",
      "    \"x\",\n",
      "    \"y\"\n",
      "  ],\n",
      "  \"nvar\": 2,\n",
      "  \"constraints\": [\n",
      "    {\n",
      "      \"set\": \"<=0\",\n",
      "      \"polynomial\": {\n",
      "        \"coeftype\": \"Float64\",\n",
      "        \"terms\": [\n",
      "          [1.0,[2],[1]],\n",
      "          [3.141592653589793,[2],[2]],\n",
      "          [-2.0]\n",
      "        ]\n",
      "      }\n",
      "    },\n",
      "    {\n",
      "      \"set\": \">=0\",\n",
      "      \"polynomial\": {\n",
      "        \"coeftype\": \"Int64\",\n",
      "        \"terms\": [\n",
      "          [1,[1],[1]]\n",
      "        ]\n",
      "      }\n",
      "    },\n",
      "    {\n",
      "      \"set\": \"=0\",\n",
      "      \"polynomial\": {\n",
      "        \"coeftype\": \"Int64\",\n",
      "        \"terms\": [\n",
      "          [2,[2],[2]],\n",
      "          [-1,[1],[2]]\n",
      "        ]\n",
      "      }\n",
      "    }\n",
      "  ],\n",
      "  \"objective\": {\n",
      "    \"set\": \"inf\",\n",
      "    \"polynomial\": {\n",
      "      \"coeftype\": \"Int64\",\n",
      "      \"terms\": [\n",
      "        [1,[4],[1]],\n",
      "        [1,[2,2]],\n",
      "        [-1,[3],[2]]\n",
      "      ]\n",
      "    }\n",
      "  },\n",
      "  \"version\": \"0.0.1\",\n",
      "  \"uuid\": \"99902d7c-9695-11ea-1a29-5d718abc546e\",\n",
      "  \"doc\": \"A first polynomial example two sign constraints and one equality constraint.\\n\"\n",
      "}\n"
     ]
    }
   ],
   "source": [
    "G  = PMO.readfile(\"tmp.json\")\n",
    "JSON.print(G)"
   ]
  },
  {
   "cell_type": "markdown",
   "metadata": {},
   "source": [
    "## Moment data"
   ]
  },
  {
   "cell_type": "code",
   "execution_count": 4,
   "metadata": {},
   "outputs": [
    {
     "data": {
      "text/plain": [
       "Optimisation model:\n",
       "  type => moment\n",
       "  variables => [\"x\", \"y\"]\n",
       "  nvar => 2\n",
       "  nms => 2\n",
       "  constraints => PMO.MomentCstr{Any}(Any[(Polynomial{true,Float64}[x² + 3.141592653589793y² - 2.0, 0.0], \">=0\"), (Polynomial{true,Int64}[0, x], \">=0\"), (Polynomial{true,Float64}[2.0y² - y, 2.1xy² + x²], \"=0 *\")], PolyVar{true}[x, y], 2)\n",
       "  objective => PMO.MomentObj{Array{Polynomial{true,Int64},1}}(Polynomial{true,Int64}[x⁴ + x²y² - y³, xy], \"inf\", PolyVar{true}[x, y])\n",
       "  version => 0.0.1\n",
       "  uuid => 9d008e7a-9695-11ea-00a5-b3beafec49fa\n"
      ]
     },
     "execution_count": 4,
     "metadata": {},
     "output_type": "execute_result"
    }
   ],
   "source": [
    "using DynamicPolynomials, JSON, PMO\n",
    "o1 = x^2*y^2+x^4-y^3\n",
    "o2 = x*y\n",
    "\n",
    "g1  = x^2 + Float64(pi)*y^2 -2\n",
    "g2 = x\n",
    "\n",
    "h1 = 2*y^2-y\n",
    "h2 = x^2+y*2.1*x*y\n",
    "\n",
    "F  = PMO.moment(([o1,o2],\"inf\"),\n",
    "                ([g1,0],\">=0\"),\n",
    "                ([0,g2], \">=0\"),\n",
    "                ([h1, h2], \"=0 *\")\n",
    "                )"
   ]
  },
  {
   "cell_type": "code",
   "execution_count": 5,
   "metadata": {},
   "outputs": [
    {
     "name": "stdout",
     "output_type": "stream",
     "text": [
      "{\n",
      "  \"type\": \"moment\",\n",
      "  \"variables\": [\n",
      "    \"x\",\n",
      "    \"y\"\n",
      "  ],\n",
      "  \"nvar\": 2,\n",
      "  \"nms\": 2,\n",
      "  \"constraints\": [\n",
      "    {\n",
      "      \"set\": \">=0\",\n",
      "      \"moments\": {\n",
      "        \"coeftype\": \"Float64\",\n",
      "        \"terms\": [\n",
      "          [1.0,1,[2],[1]],\n",
      "          [3.141592653589793,1,[2],[2]],\n",
      "          [-2.0,1]\n",
      "        ]\n",
      "      }\n",
      "    },\n",
      "    {\n",
      "      \"set\": \">=0\",\n",
      "      \"moments\": {\n",
      "        \"coeftype\": \"Int64\",\n",
      "        \"terms\": [\n",
      "          [1,2,[1],[1]]\n",
      "        ]\n",
      "      }\n",
      "    },\n",
      "    {\n",
      "      \"set\": \"=0 *\",\n",
      "      \"moments\": {\n",
      "        \"coeftype\": \"Float64\",\n",
      "        \"terms\": [\n",
      "          [2.0,1,[2],[2]],\n",
      "          [-1.0,1,[1],[2]],\n",
      "          [2.1,2,[1,2]],\n",
      "          [1.0,2,[2],[1]]\n",
      "        ]\n",
      "      }\n",
      "    }\n",
      "  ],\n",
      "  \"objective\": {\n",
      "    \"set\": \"inf\",\n",
      "    \"moments\": {\n",
      "      \"coeftype\": \"Int64\",\n",
      "      \"terms\": [\n",
      "        [1,1,[4],[1]],\n",
      "        [1,1,[2,2]],\n",
      "        [-1,1,[3],[2]],\n",
      "        [1,2,[1,1]]\n",
      "      ]\n",
      "    }\n",
      "  },\n",
      "  \"version\": \"0.0.1\",\n",
      "  \"uuid\": \"9d008e7a-9695-11ea-00a5-b3beafec49fa\"\n",
      "}\n"
     ]
    }
   ],
   "source": [
    "PMO.save(\"tmp.json\",F)\n",
    "G  = PMO.readfile(\"tmp.json\")\n",
    "JSON.print(G)"
   ]
  },
  {
   "cell_type": "markdown",
   "metadata": {},
   "source": [
    "## SDP data"
   ]
  },
  {
   "cell_type": "code",
   "execution_count": 6,
   "metadata": {},
   "outputs": [
    {
     "data": {
      "text/plain": [
       "\"Two linear matrix inequalities, one linear scalar equality and one linear scalar inequality.\""
      ]
     },
     "execution_count": 6,
     "metadata": {},
     "output_type": "execute_result"
    }
   ],
   "source": [
    "using JSON, PMO, LinearAlgebra\n",
    "\n",
    "LMI1 = [Symmetric([2 -1 0; 0 2 0; 0 0 2]),\n",
    "        0,\n",
    "        Symmetric([2 0 -1; 0 2 0; 0 0 2])\n",
    "       ]\n",
    "\n",
    "LMI2 = [Symmetric([1 0; 0 -1]),\n",
    "        Symmetric([0 3; 3 0 ]),\n",
    "        0,\n",
    "        Symmetric([0 -1; -1 2])\n",
    "       ]\n",
    "\n",
    "F  = PMO.sdp(([1,2,3], \"inf\"),\n",
    "             (LMI1,\">=0\"),\n",
    "             (LMI2,\">=0\"),\n",
    "             ([1.1,2,0,-4], \"=0\"),\n",
    "             ([0,-1.2,3,-1],\"<=0\"),\n",
    "             )\n",
    "F[\"name\"] = \"My first example\"\n",
    "F[\"doc\"]  = \"Two linear matrix inequalities, one linear scalar equality and one linear scalar inequality.\""
   ]
  },
  {
   "cell_type": "code",
   "execution_count": 7,
   "metadata": {},
   "outputs": [
    {
     "name": "stdout",
     "output_type": "stream",
     "text": [
      "{\n",
      "  \"type\": \"sdp\",\n",
      "  \"nvar\": 3,\n",
      "  \"objective\": [\n",
      "    1,\n",
      "    2,\n",
      "    3\n",
      "  ],\n",
      "  \"constraints\": {\n",
      "    \"nlmi\": 2,\n",
      "    \"msizes\": [3,2],\n",
      "    \"lmi_symat\": [\n",
      "      [2.0,1,1,1,1],\n",
      "      [-1.0,1,1,2,1],\n",
      "      [2.0,1,1,2,2],\n",
      "      [2.0,1,1,3,3],\n",
      "      [2.0,1,3,1,1],\n",
      "      [2.0,1,3,2,2],\n",
      "      [-1.0,1,3,3,1],\n",
      "      [2.0,1,3,3,3],\n",
      "      [1.0,2,1,1,1],\n",
      "      [-1.0,2,1,2,2],\n",
      "      [3.0,2,2,2,1],\n",
      "      [-1.0,2,0,2,1],\n",
      "      [2.0,2,0,2,2]\n",
      "    ],\n",
      "    \"nlsi\": 2,\n",
      "    \"lsi_mat\": [\n",
      "      [1.1,1,1],\n",
      "      [2.0,1,2],\n",
      "      [-4.0,1,0],\n",
      "      [1.2,2,2],\n",
      "      [-3.0,2,3],\n",
      "      [1.0,2,0]\n",
      "    ],\n",
      "    \"lsi_op\": [0,1]\n",
      "  },\n",
      "  \"version\": \"0.0.1\",\n",
      "  \"uuid\": \"9e6b06fa-9695-11ea-270b-3380809edade\",\n",
      "  \"name\": \"My first example\",\n",
      "  \"doc\": \"Two linear matrix inequalities, one linear scalar equality and one linear scalar inequality.\"\n",
      "}\n"
     ]
    }
   ],
   "source": [
    "PMO.save(\"tmp.json\",F)\n",
    "G  = PMO.readfile(\"tmp.json\")\n",
    "JSON.print(G)"
   ]
  },
  {
   "cell_type": "code",
   "execution_count": 8,
   "metadata": {},
   "outputs": [
    {
     "data": {
      "text/plain": [
       "\"one LMI with one rank-1 matrix, 3 linear scalar constraints\\n\""
      ]
     },
     "execution_count": 8,
     "metadata": {},
     "output_type": "execute_result"
    }
   ],
   "source": [
    "LMI1 = [Symmetric([2 1 0; 0 1 0; 0 0 0]),\n",
    "        Symmetric([0 0 0; 0 1 1; 0 0 1]),\n",
    "        [[0,0,1]],\n",
    "        -Symmetric([0 0 0; 0 0 1; 0 0 0])]\n",
    "\n",
    "F  = PMO.sdp(([0,0,1], \"inf\"),\n",
    "             (LMI1, \">=0\"),\n",
    "             ([1, 1, 0 , -1], \"=0\"),\n",
    "             ([1, 0, 0 ], \">=0\"),\n",
    "             ([0, 1, 0 ], \">=0\")\n",
    "             )\n",
    "F[\"name\"] = \"My second example\"\n",
    "F[\"doc\"] =\n",
    "    \"\"\"\n",
    "    one LMI with one rank-1 matrix, 3 linear scalar constraints\n",
    "    \"\"\""
   ]
  },
  {
   "cell_type": "code",
   "execution_count": 9,
   "metadata": {},
   "outputs": [
    {
     "name": "stdout",
     "output_type": "stream",
     "text": [
      "{\n",
      "  \"type\": \"sdp\",\n",
      "  \"nvar\": 3,\n",
      "  \"objective\": [\n",
      "    0,\n",
      "    0,\n",
      "    1\n",
      "  ],\n",
      "  \"constraints\": {\n",
      "    \"nlmi\": 1,\n",
      "    \"msizes\": [3],\n",
      "    \"lmi_symat\": [\n",
      "      [2.0,1,1,1,1],\n",
      "      [1.0,1,1,2,1],\n",
      "      [1.0,1,1,2,2],\n",
      "      [1.0,1,2,2,2],\n",
      "      [1.0,1,2,3,2],\n",
      "      [1.0,1,2,3,3],\n",
      "      [-1.0,1,0,3,2]\n",
      "    ],\n",
      "    \"lmi_lrmat\": [\n",
      "      [1.0,1,3,1,3]\n",
      "    ],\n",
      "    \"nlsi\": 3,\n",
      "    \"lsi_mat\": [\n",
      "      [1.0,1,1],\n",
      "      [1.0,1,2],\n",
      "      [-1.0,1,0],\n",
      "      [1.0,2,1],\n",
      "      [1.0,3,2]\n",
      "    ],\n",
      "    \"lsi_op\": [0,1,1]\n",
      "  },\n",
      "  \"version\": \"0.0.1\",\n",
      "  \"uuid\": \"9ee52456-9695-11ea-28bb-83c1d2b052cb\",\n",
      "  \"name\": \"My second example\",\n",
      "  \"doc\": \"one LMI with one rank-1 matrix, 3 linear scalar constraints\\n\"\n",
      "}\n"
     ]
    }
   ],
   "source": [
    "PMO.save(\"tmp.json\",F)\n",
    "G  = PMO.readfile(\"tmp.json\")\n",
    "JSON.print(G)"
   ]
  },
  {
   "cell_type": "markdown",
   "metadata": {},
   "source": [
    "## Registering and reading data"
   ]
  },
  {
   "cell_type": "markdown",
   "metadata": {},
   "source": [
    "We construct the Moztkin polynomial and register a Polynomial data which objective function is Motzkin polynomial."
   ]
  },
  {
   "cell_type": "code",
   "execution_count": 10,
   "metadata": {},
   "outputs": [
    {
     "data": {
      "text/latex": [
       "$$ x^{4}y^{2} + x^{2}y^{4} - 3x^{2}y^{2} + 1 $$"
      ],
      "text/plain": [
       "x⁴y² + x²y⁴ - 3x²y² + 1"
      ]
     },
     "execution_count": 10,
     "metadata": {},
     "output_type": "execute_result"
    }
   ],
   "source": [
    "X = @polyvar x y\n",
    "motz = x^4*y^2 + x^2*y^4 + 1 - 3x^2*y^2"
   ]
  },
  {
   "cell_type": "markdown",
   "metadata": {},
   "source": [
    "We define a Polynomial Moment Optimization Problem, with objective Motzkin polynomial."
   ]
  },
  {
   "cell_type": "code",
   "execution_count": 11,
   "metadata": {},
   "outputs": [
    {
     "data": {
      "text/plain": [
       "\"Motzkin\""
      ]
     },
     "execution_count": 11,
     "metadata": {},
     "output_type": "execute_result"
    }
   ],
   "source": [
    "Motz = pmo_pol((motz,\"inf\"))\n",
    "Motz[:name] = \"Motzkin\""
   ]
  },
  {
   "cell_type": "markdown",
   "metadata": {},
   "source": [
    "Now we register it, in a file named `Motzkin.json`"
   ]
  },
  {
   "cell_type": "code",
   "execution_count": 12,
   "metadata": {},
   "outputs": [
    {
     "name": "stderr",
     "output_type": "stream",
     "text": [
      "┌ Info: PMO update data\n",
      "└ @ PMO /Users/mourrain/Julia/PMO.jl/src/register.jl:25\n",
      "┌ Info: PMO add data file \"pmo/motzkin0.json\"\n",
      "└ @ PMO /Users/mourrain/Julia/PMO.jl/src/register.jl:60\n",
      "┌ Info: PMO update registries\n",
      "└ @ PMO /Users/mourrain/Julia/PMO.jl/src/register.jl:37\n",
      "┌ Info: PMO register data motzkin0\n",
      "└ @ PMO /Users/mourrain/Julia/PMO.jl/src/register.jl:109\n"
     ]
    },
    {
     "data": {
      "text/plain": [
       "(UUID(\"a0c49f94-9695-11ea-1de7-4b7db071f93f\"), \"motzkin0\")"
      ]
     },
     "execution_count": 12,
     "metadata": {},
     "output_type": "execute_result"
    }
   ],
   "source": [
    "u, file = register(Motz, file=\"motzkin0\")"
   ]
  },
  {
   "cell_type": "markdown",
   "metadata": {},
   "source": [
    "The data is stored in data project `PMO_GIT_DATA_URL` as the file `pmo/motzkin.json`. The index tables of the registry project `PMO_GIT_REGISTRY_URL`are update with a line per data. A local version of the data bases and index files are updated and wWe use `git` command to commit and push the changes on the `git`projects."
   ]
  },
  {
   "cell_type": "markdown",
   "metadata": {},
   "source": [
    "The tables in the registery project are available with the function `gettable`. The default table is a table of triplets (uuid , url of the data, url of the documentation):"
   ]
  },
  {
   "cell_type": "code",
   "execution_count": 13,
   "metadata": {},
   "outputs": [
    {
     "data": {
      "text/plain": [
       "Table with 4 rows, 4 columns:\n",
       "Columns:\n",
       "\u001b[1m#  \u001b[22m\u001b[1mcolname  \u001b[22m\u001b[1mtype\u001b[22m\n",
       "──────────────────\n",
       "1  uuid     String\n",
       "2  name     String\n",
       "3  url      String\n",
       "4  doc      String"
      ]
     },
     "execution_count": 13,
     "metadata": {},
     "output_type": "execute_result"
    }
   ],
   "source": [
    "pmotbl = gettable()"
   ]
  }
 ],
 "metadata": {
  "@webio": {
   "lastCommId": null,
   "lastKernelId": null
  },
  "kernelspec": {
   "display_name": "Julia 1.3.1",
   "language": "julia",
   "name": "julia-1.3"
  },
  "language_info": {
   "file_extension": ".jl",
   "mimetype": "application/julia",
   "name": "julia",
   "version": "1.3.1"
  }
 },
 "nbformat": 4,
 "nbformat_minor": 2
}
