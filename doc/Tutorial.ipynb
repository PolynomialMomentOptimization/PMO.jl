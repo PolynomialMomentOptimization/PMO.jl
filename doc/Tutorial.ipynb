{
 "cells": [
  {
   "cell_type": "markdown",
   "metadata": {},
   "source": [
    "# Tutorial for using PMO database\n",
    "\n",
    "We illustrate briefly the main functionality of the package `PMO.jl` dedicated to Polynomial & Moment Optimization problems. The database contains 3 types of data:\n",
    "\n",
    "- Polynomial Optimization Programs (POP)\n",
    "- Moment Optimization prograMs (MOM)\n",
    "- Semi-Definite Programs (SDP)\n",
    "\n",
    "## Polynomial data"
   ]
  },
  {
   "cell_type": "markdown",
   "metadata": {},
   "source": [
    "Polynomial optimization problems are of the form \n",
    "$$\n",
    "\\begin{array}{rl}\n",
    "\\inf_{x\\in \\mathbb{R}^n} & f(x)\\\\ \n",
    " s.t. & g_1(x)\\ge 0, \\ldots, g_s(x) \\geq 0\\\\\n",
    "      & h_1(x) = 0, \\ldots, h_t(x) =0\n",
    "\\end{array}\n",
    "$$\n",
    "where $f, g_1, \\ldots, g_s, h_1, ..., h_t \\in \\mathbb{R}[x_1, \\ldots, x_n]$.\n",
    "\n",
    " * $f$ is the objective function,\n",
    " * $g_1, \\ldots, g_s$ are sign constraints,\n",
    " * $h_1, ..., h_t$ are equality constraints."
   ]
  },
  {
   "cell_type": "markdown",
   "metadata": {},
   "source": [
    "Suppose we have the following polynomial program:\n",
    "$$\n",
    "\\begin{array}{rl}\n",
    "\\inf_{x,y} & x^2y^2 + x^4 - y^3\\\\ \n",
    " s.t. & x^2 + \\pi y^2 - 2 \\leq 0 \\\\\n",
    "      & x \\in [-1,1] \\\\\n",
    "      & 2y^2 - y =0\n",
    "\\end{array}\n",
    "$$"
   ]
  },
  {
   "cell_type": "code",
   "execution_count": 1,
   "metadata": {},
   "outputs": [
    {
     "data": {
      "text/plain": [
       "\"A first polynomial example with two sign constraints and one equality constraint.\\n\""
      ]
     },
     "execution_count": 1,
     "metadata": {},
     "output_type": "execute_result"
    }
   ],
   "source": [
    "using PMO, DynamicPolynomials\n",
    "\n",
    "X = @polyvar x y\n",
    "\n",
    "f  = x^2*y^2+x^4-y^3\n",
    "g1 = x^2 + Float64(pi)*y^2 -2\n",
    "g2 = x\n",
    "\n",
    "h1 = 2*y^2-y\n",
    "\n",
    "\n",
    "P  = PMO.polynomial((f,\"inf\"),\n",
    "                    (g1,\"<=0\"),\n",
    "                    (g2,[-1,1]),\n",
    "                    (h1,\"=0\"))\n",
    "\n",
    "P[\"doc\"]= \n",
    "\"\"\"\n",
    "A first polynomial example with two sign constraints and one equality constraint.\n",
    "\"\"\""
   ]
  },
  {
   "cell_type": "markdown",
   "metadata": {},
   "source": [
    "Sign constraints  can be of the form `\"<=0\"` and `\">=0\"` or an interval `[.,.]`. Notice that `\">0\"`or `\"<0\"` are **not** handled.  \n",
    "\n",
    "The same data `P` could also have been defined as follows:"
   ]
  },
  {
   "cell_type": "code",
   "execution_count": 2,
   "metadata": {},
   "outputs": [
    {
     "data": {
      "text/plain": [
       "Optimisation model:\n",
       "  type => polynomial\n",
       "  variables => [\"x\", \"y\"]\n",
       "  nvar => 2\n",
       "  constraints => [ x^2 + 3.141592653589793*y^2 - 2.0 <=0, x in [-1, 1], 2*y^2 - y =0 ]\n",
       "  objective => inf x^4 + x^2*y^2 - y^3\n",
       "  version => 0.0.1\n",
       "  uuid => a9c3bdb2-9dd0-11eb-22b7-c5e0ca525f2f\n"
      ]
     },
     "execution_count": 2,
     "metadata": {},
     "output_type": "execute_result"
    }
   ],
   "source": [
    "P  = PMO.data((f,\"inf\"),\n",
    "              (g1,\"<=0\"),\n",
    "              (g2,[-1,1]),\n",
    "              (h1,\"=0\") ; type = \"polynomial\")"
   ]
  },
  {
   "cell_type": "markdown",
   "metadata": {},
   "source": [
    "The data contains the following information: \n",
    "\n",
    "- the type `P[:type]` specifying if it is polynomial or moment or SDP program\n",
    "- the variables `P[:variables]` as an array of strings\n",
    "- the number of variables `P[:nvar]`\n",
    "- the constraints `P[:constraints]` (optional)\n",
    "- the objective function `P[:objective]` (optional)\n",
    "- the version of the data `P[:version]`\n",
    "- a universally unique identifier `P[:uuid]`\n",
    "\n",
    "Attributes can be modified, e.g. `P[:version]= \"0.0.2\"`\n",
    "\n",
    "New attributes can be added to the data, e.g. `P[:ref] = [\"doi1\", \"doi2\"]`.\n",
    "\n",
    "Attributes can be removed, e.g. `P[:version]= nothing` (but this is not recommended)"
   ]
  },
  {
   "cell_type": "markdown",
   "metadata": {},
   "source": [
    "This object of type `PMOData` can be printed and saved in json format as follows:"
   ]
  },
  {
   "cell_type": "code",
   "execution_count": 3,
   "metadata": {},
   "outputs": [
    {
     "name": "stdout",
     "output_type": "stream",
     "text": [
      "{\n",
      "  \"type\": \"polynomial\",\n",
      "  \"variables\": [\n",
      "    \"x\",\n",
      "    \"y\"\n",
      "  ],\n",
      "  \"nvar\": 2,\n",
      "  \"constraints\": [\n",
      "    {\n",
      "      \"set\": \"<=0\",\n",
      "      \"polynomial\": {\n",
      "        \"coeftype\": \"Float64\",\n",
      "        \"terms\": [\n",
      "          [1.0,[2],[1]],\n",
      "          [3.141592653589793,[2],[2]],\n",
      "          [-2.0]\n",
      "        ]\n",
      "      }\n",
      "    },\n",
      "    {\n",
      "      \"set\": [\n",
      "        -1,\n",
      "        1\n",
      "      ],\n",
      "      \"polynomial\": {\n",
      "        \"coeftype\": \"Int64\",\n",
      "        \"terms\": [\n",
      "          [1,[1],[1]]\n",
      "        ]\n",
      "      }\n",
      "    },\n",
      "    {\n",
      "      \"set\": \"=0\",\n",
      "      \"polynomial\": {\n",
      "        \"coeftype\": \"Int64\",\n",
      "        \"terms\": [\n",
      "          [2,[2],[2]],\n",
      "          [-1,[1],[2]]\n",
      "        ]\n",
      "      }\n",
      "    }\n",
      "  ],\n",
      "  \"objective\": {\n",
      "    \"set\": \"inf\",\n",
      "    \"polynomial\": {\n",
      "      \"coeftype\": \"Int64\",\n",
      "      \"terms\": [\n",
      "        [1,[4],[1]],\n",
      "        [1,[2,2]],\n",
      "        [-1,[3],[2]]\n",
      "      ]\n",
      "    }\n",
      "  },\n",
      "  \"version\": \"0.0.1\",\n",
      "  \"uuid\": \"a9c3bdb2-9dd0-11eb-22b7-c5e0ca525f2f\"\n",
      "}\n"
     ]
    }
   ],
   "source": [
    "PMO.write(P)\n",
    "PMO.write(\"tmp.json\",P)"
   ]
  },
  {
   "cell_type": "markdown",
   "metadata": {},
   "source": [
    "We read the data saved in the file `tmp.json` and built the corresponding data `Q` of type `PMOData`, which `json` writing is the same as the one of `P`."
   ]
  },
  {
   "cell_type": "code",
   "execution_count": 4,
   "metadata": {},
   "outputs": [
    {
     "name": "stdout",
     "output_type": "stream",
     "text": [
      "{\n",
      "  \"type\": \"polynomial\",\n",
      "  \"variables\": [\n",
      "    \"x\",\n",
      "    \"y\"\n",
      "  ],\n",
      "  \"nvar\": 2,\n",
      "  \"constraints\": [\n",
      "    {\n",
      "      \"set\": \"<=0\",\n",
      "      \"polynomial\": {\n",
      "        \"coeftype\": \"Float64\",\n",
      "        \"terms\": [\n",
      "          [1.0,[2],[1]],\n",
      "          [3.141592653589793,[2],[2]],\n",
      "          [-2.0]\n",
      "        ]\n",
      "      }\n",
      "    },\n",
      "    {\n",
      "      \"set\": [\n",
      "        -1,\n",
      "        1\n",
      "      ],\n",
      "      \"polynomial\": {\n",
      "        \"coeftype\": \"Int64\",\n",
      "        \"terms\": [\n",
      "          [1,[1],[1]]\n",
      "        ]\n",
      "      }\n",
      "    },\n",
      "    {\n",
      "      \"set\": \"=0\",\n",
      "      \"polynomial\": {\n",
      "        \"coeftype\": \"Int64\",\n",
      "        \"terms\": [\n",
      "          [2,[2],[2]],\n",
      "          [-1,[1],[2]]\n",
      "        ]\n",
      "      }\n",
      "    }\n",
      "  ],\n",
      "  \"objective\": {\n",
      "    \"set\": \"inf\",\n",
      "    \"polynomial\": {\n",
      "      \"coeftype\": \"Int64\",\n",
      "      \"terms\": [\n",
      "        [1,[4],[1]],\n",
      "        [1,[2,2]],\n",
      "        [-1,[3],[2]]\n",
      "      ]\n",
      "    }\n",
      "  },\n",
      "  \"version\": \"0.0.1\",\n",
      "  \"uuid\": \"a9c3bdb2-9dd0-11eb-22b7-c5e0ca525f2f\"\n",
      "}\n"
     ]
    }
   ],
   "source": [
    "Q  = PMO.read(\"tmp.json\")\n",
    "PMO.write(Q)"
   ]
  },
  {
   "cell_type": "markdown",
   "metadata": {},
   "source": [
    "## Moment data"
   ]
  },
  {
   "cell_type": "markdown",
   "metadata": {},
   "source": [
    "Moment optimization problems are of the form \n",
    "$$\n",
    "\\begin{array}{rl}\n",
    "\\inf_{\\mu_j\\in \\mathbb{R}[x_1, \\ldots, x_n]^* } & \\langle\\mu_1|f_1\\rangle+\\cdots +\\langle\\mu_\\nu|f_\\nu\\rangle\\\\ \n",
    " s.t. & \\sum_{j=1}^{\\nu} g_{1,j} \\star \\mu_j \\succeq 0, \\ldots, \\sum_{j=1}^{\\nu} g_{s,j} \\star \\mu_j \\succeq 0\\\\\n",
    "      & \\sum_{j=1}^{\\nu} h_{1,j} \\star \\mu_j = 0, \\ldots, \\sum_{j=1}^{\\nu} h_{t,j} \\star \\mu_j =0\\\\\n",
    "      & \\sum_{j=1}^{\\nu} \\langle\\mu_j|l_{1,j}\\rangle+ l_{1,\\nu+1}\\ge 0, \\ldots, \\sum_{j=1}^{\\nu}\\langle\\mu_j|l_{u,j}\\rangle+l_{u,\\nu+1}\\ge 0\\\\\n",
    "      & \\sum_{j=1}^{\\nu} \\langle\\mu_j|m_{1,j}\\rangle + m_{1,\\nu+1}= 0, \\ldots,  \\sum_{j=1}^{\\nu}\\langle\\mu_j|m_{v,j}\\rangle = 0\n",
    "\\end{array}\n",
    "$$\n",
    "where\n",
    "  * $\\mu_1, \\ldots, \\mu_\\nu$ are moment sequences, i.e. elements of the dual $\\mathbb{R}[x_1, \\ldots, x_n]^*$,\n",
    "  * $f, g_{i,j}, h_{i,j}, l_{i,j}, m_{i,j}\\in \\mathbb{R}[x_1, \\ldots, x_n]$.\n",
    "\n",
    "The constraints $\\sum_{j=1}^{\\nu} \\langle\\mu_i|l_{i,j}\\rangle+l_{i,\\nu+1}\\ge 0$, $\\sum_{j=1}^{\\nu} \\langle\\mu_j|m_{i,j}\\rangle +m_{i,\\nu+1}= 0$ are respectively mass sign constraints and mass equality constraints (specified with `\">=0 *\"` and `\"=0 *`). They can have non-zero constant terms $l_{i,\\nu+1},m_{i,\\nu+1}$ or not. \n",
    "\n",
    "The product $\\star$ is defined as follows: for $p\\in \\mathbb{R}[x_1, \\ldots, x_n], \\mu \\in \\mathbb{R}[x_1, \\ldots, x_n]^*$, $p\\star \\mu : q \\mapsto \\langle p\\star \\mu|q\\rangle:= \\langle\\mu| p q\\rangle$.  "
   ]
  },
  {
   "cell_type": "markdown",
   "metadata": {},
   "source": [
    "Here is an example:\n",
    "$$\n",
    "\\begin{array}{rl}\n",
    "\\inf_{\\mu_1,\\mu_2} & \\langle \\mu_1 | x^2y^2 + x^4 - y^3 \\rangle + \\langle \\mu_2 | x y  \\rangle \\\\ \n",
    " s.t. & (x^2 + \\pi y^2 - 2) \\star \\mu_1 \\succeq 0 \\\\\n",
    "      & \\langle  \\mu_2 | x \\rangle -1 \\geq 0 \\\\\n",
    "      & \\langle  \\mu_1 | 2y^2 - y \\rangle  + \\langle \\mu_2 | x^2 + 2.1 x y^2 \\rangle = 0 \n",
    "\\end{array}\n",
    "$$"
   ]
  },
  {
   "cell_type": "code",
   "execution_count": 5,
   "metadata": {},
   "outputs": [
    {
     "data": {
      "text/plain": [
       "Optimisation model:\n",
       "  type => moment\n",
       "  variables => [\"x\", \"y\"]\n",
       "  nvar => 2\n",
       "  nms => 2\n",
       "  constraints => [ Polynomial{true,Float64}[x² + 3.141592653589793y² - 2.0, 0.0] * >=0, Polynomial{true,Int64}[0, x, -1] * >=0 *, Polynomial{true,Float64}[2.0y² - y, 2.1xy² + x²] * =0 * ]\n",
       "  objective => inf Polynomial{true,Int64}[x⁴ + x²y² - y³, xy]\n",
       "  version => 0.0.1\n",
       "  uuid => acd88e4a-9dd0-11eb-120e-79957d943e8c\n"
      ]
     },
     "execution_count": 5,
     "metadata": {},
     "output_type": "execute_result"
    }
   ],
   "source": [
    "using DynamicPolynomials, PMO\n",
    "@polyvar x y\n",
    "f1 = x^2*y^2+x^4-y^3\n",
    "f2 = x*y\n",
    "\n",
    "g1 = x^2 + Float64(pi)*y^2 -2\n",
    "g2 = x\n",
    "\n",
    "h1 = 2*y^2-y\n",
    "h2 = x^2+y*2.1*x*y\n",
    "\n",
    "F  = PMO.moment(([f1,f2],\"inf\"),\n",
    "                ([g1,0],\">=0\"),\n",
    "                ([0,g2, -1], \">=0 *\"),\n",
    "                ([h1, h2], \"=0 *\")\n",
    "                )"
   ]
  },
  {
   "cell_type": "code",
   "execution_count": 6,
   "metadata": {},
   "outputs": [
    {
     "name": "stdout",
     "output_type": "stream",
     "text": [
      "{\n",
      "  \"type\": \"moment\",\n",
      "  \"variables\": [\n",
      "    \"x\",\n",
      "    \"y\"\n",
      "  ],\n",
      "  \"nvar\": 2,\n",
      "  \"nms\": 2,\n",
      "  \"constraints\": [\n",
      "    {\n",
      "      \"set\": \">=0\",\n",
      "      \"moments\": {\n",
      "        \"coeftype\": \"Float64\",\n",
      "        \"terms\": [\n",
      "          [1.0,1,[2],[1]],\n",
      "          [3.141592653589793,1,[2],[2]],\n",
      "          [-2.0,1]\n",
      "        ]\n",
      "      }\n",
      "    },\n",
      "    {\n",
      "      \"set\": \">=0 *\",\n",
      "      \"moments\": {\n",
      "        \"coeftype\": \"Int64\",\n",
      "        \"terms\": [\n",
      "          [1,2,[1],[1]],\n",
      "          [-1,3]\n",
      "        ]\n",
      "      }\n",
      "    },\n",
      "    {\n",
      "      \"set\": \"=0 *\",\n",
      "      \"moments\": {\n",
      "        \"coeftype\": \"Float64\",\n",
      "        \"terms\": [\n",
      "          [2.0,1,[2],[2]],\n",
      "          [-1.0,1,[1],[2]],\n",
      "          [2.1,2,[1,2]],\n",
      "          [1.0,2,[2],[1]]\n",
      "        ]\n",
      "      }\n",
      "    }\n",
      "  ],\n",
      "  \"objective\": {\n",
      "    \"set\": \"inf\",\n",
      "    \"moments\": {\n",
      "      \"coeftype\": \"Int64\",\n",
      "      \"terms\": [\n",
      "        [1,1,[4],[1]],\n",
      "        [1,1,[2,2]],\n",
      "        [-1,1,[3],[2]],\n",
      "        [1,2,[1,1]]\n",
      "      ]\n",
      "    }\n",
      "  },\n",
      "  \"version\": \"0.0.1\",\n",
      "  \"uuid\": \"acd88e4a-9dd0-11eb-120e-79957d943e8c\"\n",
      "}\n"
     ]
    }
   ],
   "source": [
    "PMO.write(\"tmp.json\",F)\n",
    "G  = PMO.read(\"tmp.json\")\n",
    "PMO.write(G)"
   ]
  },
  {
   "cell_type": "markdown",
   "metadata": {},
   "source": [
    "## SDP data\n"
   ]
  },
  {
   "cell_type": "markdown",
   "metadata": {},
   "source": [
    "SDP optimization problems are of the form\n",
    "\n",
    "$$\n",
    "\\begin{array}{rl}\n",
    "\\inf_{x\\in \\mathbb{R}^n} & f^T x \\\\ \n",
    " s.t. & \\sum_{j=1}^{n} A_{1,j} x_j + A_{1,0} \\succeq 0, \\ldots, \\sum_{j=1}^{n} A_{s,j} x_j + A_{s,0} \\succeq 0\\\\\n",
    "      & \\sum_{j=1}^{n} c_{1,1}\\cdot x + d_{1,1}\\ge 0, \\ldots, \\sum_{j=1}^{n} c_{1,u}\\cdot x + d_{1,u}\\ge 0\\\\\n",
    "      & \\sum_{j=1}^{n} c_{0,1}\\cdot x + d_{0,1} = 0, \\ldots, \\sum_{j=1}^{n} c_{0,v} \\cdot x + d_{0,v} = 0\n",
    "\\end{array}\n",
    "$$\n",
    "where $f, c_{i,j} \\in \\mathbb{R}^n$, $d_{i,j}\\in \\mathbb{R}$, $A_{i,j} \\in S^{n_i}$ are symmetric matrices of size $n_i$."
   ]
  },
  {
   "cell_type": "markdown",
   "metadata": {},
   "source": [
    "Let us consider the following problem \n",
    "$$\n",
    "\\begin{array}{rl}\n",
    "\\inf_{x_1,x_2,x_3} &  x_1 + 2 x_2 + 3 x_3 \\\\ \n",
    " s.t. & \\begin{pmatrix}\n",
    "2 & -1 & 0\\\\\n",
    "-1 & 2 & 0 \\\\\n",
    "0 & 0 & 2\n",
    "\\end{pmatrix} x_1 + \n",
    "\\begin{pmatrix}\n",
    "2 & 0 & -1\\\\\n",
    "0 & 2 & 0 \\\\\n",
    "-1 & 0 & 2\n",
    "\\end{pmatrix} x_3 \\succeq 0 , \\\\\n",
    "& \\begin{pmatrix}\n",
    "1 & 0 \\\\\n",
    "0 & -1 \n",
    "\\end{pmatrix} x_1 + \n",
    "\\begin{pmatrix}\n",
    "0 & 3 \\\\\n",
    "3 & 0 \n",
    "\\end{pmatrix} x_2 + \n",
    "\\begin{pmatrix}\n",
    "0 & -1 \\\\\n",
    "-1 & 2 \n",
    "\\end{pmatrix}  \\succeq 0, \\\\\n",
    "      & 1.1 x_1 + 2 x_2  -4 = 0, \\quad -1.2 x_2 + 3 x_3 -1 \\leq 0\n",
    "\\end{array}\n",
    "$$\n",
    "It can be built as follows:"
   ]
  },
  {
   "cell_type": "code",
   "execution_count": 7,
   "metadata": {},
   "outputs": [
    {
     "data": {
      "text/plain": [
       "\"Two linear matrix inequalities, one linear scalar equality and one linear scalar inequality.\""
      ]
     },
     "execution_count": 7,
     "metadata": {},
     "output_type": "execute_result"
    }
   ],
   "source": [
    "using PMO, LinearAlgebra\n",
    "\n",
    "LMI1 = [Symmetric([2 -1 0; 0 2 0; 0 0 2]),\n",
    "        0,\n",
    "        Symmetric([2 0 -1; 0 2 0; 0 0 2])\n",
    "       ]\n",
    "\n",
    "LMI2 = [Symmetric([1 0; 0 -1]),\n",
    "        Symmetric([0 3; 3 0 ]),\n",
    "        0,\n",
    "        Symmetric([0 -1; -1 2])\n",
    "       ]\n",
    "\n",
    "M  = PMO.sdp(([1,2,3], \"inf\"),\n",
    "             (LMI1,\">=0\"),\n",
    "             (LMI2,\">=0\"),\n",
    "             ([1.1,2,0,-4], \"=0\"),\n",
    "             ([0,-1.2,3,-1],\"<=0\"),\n",
    "             )\n",
    "M[:name] = \"My first example\"\n",
    "M[:doc]  = \"Two linear matrix inequalities, one linear scalar equality and one linear scalar inequality.\""
   ]
  },
  {
   "cell_type": "code",
   "execution_count": 8,
   "metadata": {},
   "outputs": [
    {
     "name": "stdout",
     "output_type": "stream",
     "text": [
      "{\n",
      "  \"type\": \"sdp\",\n",
      "  \"nvar\": 3,\n",
      "  \"objective\": [1,2,3],\n",
      "  \"constraints\": {\n",
      "    \"nlmi\": 2,\n",
      "    \"msizes\": [3,2],\n",
      "    \"lmi_symat\": [\n",
      "      [2.0,1,1,1,1],\n",
      "      [-1.0,1,1,2,1],\n",
      "      [2.0,1,1,2,2],\n",
      "      [2.0,1,1,3,3],\n",
      "      [2.0,3,1,1,1],\n",
      "      [2.0,3,1,2,2],\n",
      "      [-1.0,3,1,3,1],\n",
      "      [2.0,3,1,3,3],\n",
      "      [1.0,1,2,1,1],\n",
      "      [-1.0,1,2,2,2],\n",
      "      [3.0,2,2,2,1],\n",
      "      [-1.0,0,2,2,1],\n",
      "      [2.0,0,2,2,2]\n",
      "    ],\n",
      "    \"nlsi\": 2,\n",
      "    \"lsi_mat\": [\n",
      "      [1.1,1,1],\n",
      "      [2.0,1,2],\n",
      "      [1.2,2,2],\n",
      "      [-3.0,2,3]\n",
      "    ],\n",
      "    \"lsi_vec\": [4.0,-1.0],\n",
      "    \"lsi_op\": [0,1]\n",
      "  },\n",
      "  \"version\": \"0.0.1\",\n",
      "  \"uuid\": \"adb50140-9dd0-11eb-1f9e-f12a0ed41040\",\n",
      "  \"name\": \"My first example\",\n",
      "  \"doc\": \"Two linear matrix inequalities, one linear scalar equality and one linear scalar inequality.\"\n",
      "}\n"
     ]
    }
   ],
   "source": [
    "PMO.write(\"tmp.json\",M)\n",
    "N  = PMO.read(\"tmp.json\")\n",
    "PMO.write(N)"
   ]
  },
  {
   "cell_type": "code",
   "execution_count": 9,
   "metadata": {},
   "outputs": [
    {
     "data": {
      "text/plain": [
       "\"one LMI with one rank-1 matrix, 3 linear scalar constraints\\n\""
      ]
     },
     "execution_count": 9,
     "metadata": {},
     "output_type": "execute_result"
    }
   ],
   "source": [
    "LMI1 = [Symmetric([2 1 0; 0 1 0; 0 0 0]),\n",
    "        Symmetric([0 0 0; 0 1 1; 0 0 1]),\n",
    "        [[0,0,1]],\n",
    "        -Symmetric([0 0 0; 0 0 1; 0 0 0])]\n",
    "\n",
    "F  = PMO.sdp(([0,0,1], \"inf\"),\n",
    "             (LMI1, \">=0\"),\n",
    "             ([1, 1, 0 , -1], \"=0\"),\n",
    "             ([1, 0, 0 ], \">=0\"),\n",
    "             ([0, 1, 0 ], \">=0\")\n",
    "             )\n",
    "F[:name] = \"A second example\"\n",
    "F[:doc] =\n",
    "    \"\"\"\n",
    "    one LMI with one rank-1 matrix, 3 linear scalar constraints\n",
    "    \"\"\""
   ]
  },
  {
   "cell_type": "markdown",
   "metadata": {},
   "source": [
    "Here in `LMI1`, the third matrix is a low rank matrix, represented as a vector of vectors $u_i$ corresponding to $\\sum_i u_i\\otimes u_i$."
   ]
  },
  {
   "cell_type": "code",
   "execution_count": 10,
   "metadata": {},
   "outputs": [
    {
     "name": "stdout",
     "output_type": "stream",
     "text": [
      "{\n",
      "  \"type\": \"sdp\",\n",
      "  \"nvar\": 3,\n",
      "  \"objective\": [1,2,3],\n",
      "  \"constraints\": {\n",
      "    \"nlmi\": 2,\n",
      "    \"msizes\": [3,2],\n",
      "    \"lmi_symat\": [\n",
      "      [2.0,1,1,1,1],\n",
      "      [-1.0,1,1,2,1],\n",
      "      [2.0,1,1,2,2],\n",
      "      [2.0,1,1,3,3],\n",
      "      [2.0,3,1,1,1],\n",
      "      [2.0,3,1,2,2],\n",
      "      [-1.0,3,1,3,1],\n",
      "      [2.0,3,1,3,3],\n",
      "      [1.0,1,2,1,1],\n",
      "      [-1.0,1,2,2,2],\n",
      "      [3.0,2,2,2,1],\n",
      "      [-1.0,0,2,2,1],\n",
      "      [2.0,0,2,2,2]\n",
      "    ],\n",
      "    \"nlsi\": 2,\n",
      "    \"lsi_mat\": [\n",
      "      [1.1,1,1],\n",
      "      [2.0,1,2],\n",
      "      [1.2,2,2],\n",
      "      [-3.0,2,3]\n",
      "    ],\n",
      "    \"lsi_vec\": [4.0,-1.0],\n",
      "    \"lsi_op\": [0,1]\n",
      "  },\n",
      "  \"version\": \"0.0.1\",\n",
      "  \"uuid\": \"adb50140-9dd0-11eb-1f9e-f12a0ed41040\",\n",
      "  \"name\": \"My first example\",\n",
      "  \"doc\": \"Two linear matrix inequalities, one linear scalar equality and one linear scalar inequality.\"\n",
      "}\n"
     ]
    }
   ],
   "source": [
    "PMO.write(\"tmp.json\",M)\n",
    "N = PMO.read(\"tmp.json\")\n",
    "PMO.write(N)"
   ]
  },
  {
   "cell_type": "markdown",
   "metadata": {},
   "source": [
    "## Using the database"
   ]
  },
  {
   "cell_type": "markdown",
   "metadata": {},
   "source": [
    "The PMO data base is loaded as follows:"
   ]
  },
  {
   "cell_type": "code",
   "execution_count": 11,
   "metadata": {},
   "outputs": [
    {
     "data": {
      "text/plain": [
       "PMO.DataBase(Table with 30 rows, 3 columns:\n",
       "Columns:\n",
       "\u001b[1m#  \u001b[22m\u001b[1mcolname  \u001b[22m\u001b[1mtype\u001b[22m\n",
       "──────────────────\n",
       "1  uuid     String\n",
       "2  name     String\n",
       "3  url      String)"
      ]
     },
     "execution_count": 11,
     "metadata": {},
     "output_type": "execute_result"
    }
   ],
   "source": [
    "using PMO\n",
    "t = PMO.table()"
   ]
  },
  {
   "cell_type": "markdown",
   "metadata": {},
   "source": [
    "It is a table of triplets `(uuid , name, url)` of a unique identifier `uuid`, a `name` containing tags to recover easily the data and the `url` of the file containing the data. This table only contains references to the PMO data. These data files are available in the local folder `$HOME/.julia/PMO/data`. \n",
    "\n",
    "The data files of the `git` server are visible at https://github.com/PolynomialMomentOptimization/data/tree/master/json. \n",
    "\n",
    "The registery of the database on the `git` server is at https://github.com/PolynomialMomentOptimization/data/blob/master/registries/index-pmo.csv."
   ]
  },
  {
   "cell_type": "markdown",
   "metadata": {},
   "source": [
    "## Selecting data"
   ]
  },
  {
   "cell_type": "markdown",
   "metadata": {},
   "source": [
    "Data can be selected from their `:name` attribute, by regular expressions or matching strings."
   ]
  },
  {
   "cell_type": "code",
   "execution_count": 12,
   "metadata": {},
   "outputs": [
    {
     "data": {
      "text/plain": [
       "PMO.DataBase(Table with 3 rows, 3 columns:\n",
       "Columns:\n",
       "\u001b[1m#  \u001b[22m\u001b[1mcolname  \u001b[22m\u001b[1mtype\u001b[22m\n",
       "──────────────────\n",
       "1  uuid     String\n",
       "2  name     String\n",
       "3  url      String)"
      ]
     },
     "execution_count": 12,
     "metadata": {},
     "output_type": "execute_result"
    }
   ],
   "source": [
    "t2 = select(t,r\"[Mm]otz\")\n",
    "t3 = select(t,\"Motzkin\")"
   ]
  },
  {
   "cell_type": "markdown",
   "metadata": {},
   "source": [
    "This gives new tables `t2, t3` of triplets `(uuid,name,url)` (Here with 3 rows). \n",
    "\n",
    "To select one column of such a table, one can do the following:"
   ]
  },
  {
   "cell_type": "code",
   "execution_count": 13,
   "metadata": {},
   "outputs": [
    {
     "data": {
      "text/plain": [
       "3-element WeakRefStrings.StringArray{String,1}:\n",
       " \"Motzkin\"            \n",
       " \"Motzkin homogeneous\"\n",
       " \"Motzkin bounded\"    "
      ]
     },
     "execution_count": 13,
     "metadata": {},
     "output_type": "execute_result"
    }
   ],
   "source": [
    "select(t2, :name)"
   ]
  },
  {
   "cell_type": "markdown",
   "metadata": {},
   "source": [
    "We can recover the i$^{th}$ entry of the table as follows:"
   ]
  },
  {
   "cell_type": "code",
   "execution_count": 14,
   "metadata": {},
   "outputs": [
    {
     "data": {
      "text/plain": [
       "Optimisation model:\n",
       "  type => polynomial\n",
       "  variables => Any[\"x\", \"y\"]\n",
       "  nvar => 2\n",
       "  objective => inf x^4*y^2 + x^2*y^4 - 3*x^2*y^2 + 1\n",
       "  name => Motzkin\n",
       "  version => 0.0.2\n",
       "  author => Bernard Mourrain\n",
       "  uuid => cb46cb04-83db-11ea-0b43-87115082d076\n",
       "  doc => Celebrate Motzkin polynomial, which is a non-negative polynomial, but not a Sum of Squares\n",
       "\n"
      ]
     },
     "execution_count": 14,
     "metadata": {},
     "output_type": "execute_result"
    }
   ],
   "source": [
    "t2[1]"
   ]
  },
  {
   "cell_type": "markdown",
   "metadata": {},
   "source": [
    "Data can also be recovered from regular expressions matching their names:"
   ]
  },
  {
   "cell_type": "code",
   "execution_count": 15,
   "metadata": {},
   "outputs": [
    {
     "data": {
      "text/plain": [
       "3-element Array{Any,1}:\n",
       " Optimisation model:\n",
       "  type => polynomial\n",
       "  variables => Any[\"x\", \"y\"]\n",
       "  nvar => 2\n",
       "  objective => inf x^4*y^2 + x^2*y^4 - 3*x^2*y^2 + 1\n",
       "  name => Motzkin\n",
       "  version => 0.0.2\n",
       "  author => Bernard Mourrain\n",
       "  uuid => cb46cb04-83db-11ea-0b43-87115082d076\n",
       "  doc => Celebrate Motzkin polynomial, which is a non-negative polynomial, but not a Sum of Squares\n",
       "\n",
       "                          \n",
       " Optimisation model:\n",
       "  type => polynomial\n",
       "  variables => Any[\"x\", \"y\", \"z\"]\n",
       "  nvar => 3\n",
       "  constraints => [ x^2 + y^2 + z^2 - 1 =0 ]\n",
       "  objective => inf x^4*y^2 + x^2*y^4 - 3*x^2*y^2*z^2 + z^6\n",
       "  version => 0.0.2\n",
       "  uuid => e46b1efe-0a05-11eb-198e-0912f9f7d742\n",
       "  name => Motzkin homogeneous\n",
       "  doc => Homogeneous Motzkin polynomial on the unit sphere\n",
       "\n",
       "  author => Bernard Mourrain\n",
       "\n",
       " Optimisation model:\n",
       "  type => polynomial\n",
       "  variables => Any[\"x\", \"y\"]\n",
       "  nvar => 2\n",
       "  constraints => [ -x^2 - y^2 + 2 >=0 ]\n",
       "  objective => inf x^4*y^2 + x^2*y^4 - 3*x^2*y^2 + 1\n",
       "  version => 0.0.2\n",
       "  uuid => dab9e7be-19fa-11eb-329b-c5570aaed8a0\n",
       "  name => Motzkin bounded\n",
       "  author => Bernard Mourrain\n",
       "                                                                               "
      ]
     },
     "execution_count": 15,
     "metadata": {},
     "output_type": "execute_result"
    }
   ],
   "source": [
    "t2[r\"Motz.\"]"
   ]
  },
  {
   "cell_type": "markdown",
   "metadata": {},
   "source": [
    "or equivalently the elements, which name contains \"Motz\":"
   ]
  },
  {
   "cell_type": "code",
   "execution_count": 16,
   "metadata": {},
   "outputs": [
    {
     "data": {
      "text/plain": [
       "3-element Array{PMO.Data,1}:\n",
       " Optimisation model:\n",
       "  type => polynomial\n",
       "  variables => Any[\"x\", \"y\"]\n",
       "  nvar => 2\n",
       "  objective => inf x^4*y^2 + x^2*y^4 - 3*x^2*y^2 + 1\n",
       "  name => Motzkin\n",
       "  version => 0.0.2\n",
       "  author => Bernard Mourrain\n",
       "  uuid => cb46cb04-83db-11ea-0b43-87115082d076\n",
       "  doc => Celebrate Motzkin polynomial, which is a non-negative polynomial, but not a Sum of Squares\n",
       "\n",
       "                          \n",
       " Optimisation model:\n",
       "  type => polynomial\n",
       "  variables => Any[\"x\", \"y\", \"z\"]\n",
       "  nvar => 3\n",
       "  constraints => [ x^2 + y^2 + z^2 - 1 =0 ]\n",
       "  objective => inf x^4*y^2 + x^2*y^4 - 3*x^2*y^2*z^2 + z^6\n",
       "  version => 0.0.2\n",
       "  uuid => e46b1efe-0a05-11eb-198e-0912f9f7d742\n",
       "  name => Motzkin homogeneous\n",
       "  doc => Homogeneous Motzkin polynomial on the unit sphere\n",
       "\n",
       "  author => Bernard Mourrain\n",
       "\n",
       " Optimisation model:\n",
       "  type => polynomial\n",
       "  variables => Any[\"x\", \"y\"]\n",
       "  nvar => 2\n",
       "  constraints => [ -x^2 - y^2 + 2 >=0 ]\n",
       "  objective => inf x^4*y^2 + x^2*y^4 - 3*x^2*y^2 + 1\n",
       "  version => 0.0.2\n",
       "  uuid => dab9e7be-19fa-11eb-329b-c5570aaed8a0\n",
       "  name => Motzkin bounded\n",
       "  author => Bernard Mourrain\n",
       "                                                                               "
      ]
     },
     "execution_count": 16,
     "metadata": {},
     "output_type": "execute_result"
    }
   ],
   "source": [
    "m = t3[\"Motz\"]"
   ]
  },
  {
   "cell_type": "markdown",
   "metadata": {},
   "source": [
    "Data can be selected and retrieved via test functions:"
   ]
  },
  {
   "cell_type": "code",
   "execution_count": 17,
   "metadata": {},
   "outputs": [
    {
     "data": {
      "text/plain": [
       "PMO.DataBase(Table with 26 rows, 3 columns:\n",
       "Columns:\n",
       "\u001b[1m#  \u001b[22m\u001b[1mcolname  \u001b[22m\u001b[1mtype\u001b[22m\n",
       "──────────────────\n",
       "1  uuid     String\n",
       "2  name     String\n",
       "3  url      String)"
      ]
     },
     "execution_count": 17,
     "metadata": {},
     "output_type": "execute_result"
    }
   ],
   "source": [
    "hasprop = function(x) return (PMO.getdata(x[:url])[:nvar] >= 3) end # test if the data has a number of variables >= 3\n",
    "nwl = t[hasprop];\n",
    "nwt = select(t,hasprop)"
   ]
  },
  {
   "cell_type": "markdown",
   "metadata": {},
   "source": [
    "Iterators can also be used on tables: `[x[:name] for x in t]`\n"
   ]
  },
  {
   "cell_type": "markdown",
   "metadata": {},
   "source": [
    "## Updating the database"
   ]
  },
  {
   "cell_type": "markdown",
   "metadata": {},
   "source": [
    "The database can be updated from the git server as follows:"
   ]
  },
  {
   "cell_type": "code",
   "execution_count": 18,
   "metadata": {},
   "outputs": [
    {
     "name": "stderr",
     "output_type": "stream",
     "text": [
      "┌ Info: PMO update data\n",
      "└ @ PMO /Users/mourrain/Julia/PMO.jl/src/register.jl:45\n"
     ]
    },
    {
     "data": {
      "text/plain": [
       "Table with 30 rows, 3 columns:\n",
       "Columns:\n",
       "\u001b[1m#  \u001b[22m\u001b[1mcolname  \u001b[22m\u001b[1mtype\u001b[22m\n",
       "──────────────────\n",
       "1  uuid     String\n",
       "2  name     String\n",
       "3  url      String"
      ]
     },
     "execution_count": 18,
     "metadata": {},
     "output_type": "execute_result"
    }
   ],
   "source": [
    "update(t)"
   ]
  },
  {
   "cell_type": "markdown",
   "metadata": {},
   "source": [
    "#### Adding new data\n",
    "\n",
    "New data can be added to the database via `git`and `push` commands. For that to work properly, you have to get a read/write access to the  `github` project [https://github.com/PolynomialMomentOptimization/data](https://github.com/PolynomialMomentOptimization/data). If not, please create an account on https://github.com/ and ask to join the project. \n",
    "\n",
    "We illustrate the process on a simple example. First we create the data:"
   ]
  },
  {
   "cell_type": "code",
   "execution_count": 19,
   "metadata": {},
   "outputs": [
    {
     "data": {
      "text/plain": [
       "\"Motzkin bounded\""
      ]
     },
     "execution_count": 19,
     "metadata": {},
     "output_type": "execute_result"
    }
   ],
   "source": [
    "using PMO, DynamicPolynomials\n",
    "X = @polyvar x y\n",
    "motz = x^4*y^2 + x^2*y^4 + 1 - 3*x^2*y^2\n",
    "\n",
    "Motz = PMO.data((motz,\"inf\"), (2-x^2-y^2, \">=0\"))\n",
    "Motz[:name] = \"Motzkin bounded\""
   ]
  },
  {
   "cell_type": "markdown",
   "metadata": {},
   "source": [
    "Now we push it to the database with the file name `motzkin_bounded`:"
   ]
  },
  {
   "cell_type": "code",
   "execution_count": 20,
   "metadata": {},
   "outputs": [
    {
     "name": "stderr",
     "output_type": "stream",
     "text": [
      "┌ Warning: data[:author] or data[:name] not defined; data not pushed to database\n",
      "└ @ PMO /Users/mourrain/Julia/PMO.jl/src/register.jl:248\n"
     ]
    }
   ],
   "source": [
    "t = PMO.table()\n",
    "push(t, Motz, file=\"motzkin_bounded\")"
   ]
  },
  {
   "cell_type": "markdown",
   "metadata": {},
   "source": [
    "The name `motzkin_bounded` specifies the file used to store the data. \n",
    "\n",
    "Here we get a warning because the attribute `:author` is not defined in Motz. So we define it and retry:"
   ]
  },
  {
   "cell_type": "code",
   "execution_count": 21,
   "metadata": {},
   "outputs": [
    {
     "name": "stderr",
     "output_type": "stream",
     "text": [
      "┌ Info: PMO update data\n",
      "└ @ PMO /Users/mourrain/Julia/PMO.jl/src/register.jl:45\n",
      "┌ Info: PMO data motzkin_bounded.json already exists\n",
      "└ @ PMO /Users/mourrain/Julia/PMO.jl/src/register.jl:121\n",
      "┌ Info: PMO add data motzkin_bounded.1.json\n",
      "└ @ PMO /Users/mourrain/Julia/PMO.jl/src/register.jl:139\n",
      "┌ Info: PMO update registery\n",
      "└ @ PMO /Users/mourrain/Julia/PMO.jl/src/register.jl:195\n",
      "┌ Info: PMO update data\n",
      "└ @ PMO /Users/mourrain/Julia/PMO.jl/src/register.jl:45\n",
      "┌ Info: PMO update table\n",
      "└ @ PMO /Users/mourrain/Julia/PMO.jl/src/register.jl:258\n"
     ]
    }
   ],
   "source": [
    "Motz[:author] = \"Joe Test\"\n",
    "push(t, Motz, file=\"motzkin_bounded\")"
   ]
  },
  {
   "cell_type": "markdown",
   "metadata": {},
   "source": [
    "We see that the file name `motzkin_bounded` is already used so that the data is stored as the file `motzkin_bounded.1.json` in the folder `json`of the data project `PMO.PMO_GIT_DATA_URL`. The index table of the registry folder is updated with a line per data. See\n",
    "  - https://github.com/PolynomialMomentOptimization/data/tree/master/json\n",
    "  - https://github.com/PolynomialMomentOptimization/data/blob/master/registries/index-pmo.csv\n",
    "\n",
    "A local version of the data bases and index files are updated; `git` is used to commit and push the changes on this `github` project."
   ]
  },
  {
   "cell_type": "markdown",
   "metadata": {},
   "source": [
    "Data can be removed from the database as follows:"
   ]
  },
  {
   "cell_type": "code",
   "execution_count": 22,
   "metadata": {},
   "outputs": [
    {
     "name": "stderr",
     "output_type": "stream",
     "text": [
      "┌ Info: PMO remove data motzkin_bounded.1.json\n",
      "└ @ PMO /Users/mourrain/Julia/PMO.jl/src/register.jl:112\n"
     ]
    }
   ],
   "source": [
    "PMO.rm(t, Motz)"
   ]
  },
  {
   "cell_type": "markdown",
   "metadata": {},
   "source": [
    "#### Modifying a data \n",
    "\n",
    "Here, it is showing how to modify an element and update of the database:"
   ]
  },
  {
   "cell_type": "code",
   "execution_count": 23,
   "metadata": {},
   "outputs": [
    {
     "data": {
      "text/plain": [
       "\"0.0.2\""
      ]
     },
     "execution_count": 23,
     "metadata": {},
     "output_type": "execute_result"
    }
   ],
   "source": [
    "F = t[2]\n",
    "F[:version] = \"0.0.2\""
   ]
  },
  {
   "cell_type": "markdown",
   "metadata": {},
   "source": [
    "To update of the database element of the table `t`:"
   ]
  },
  {
   "cell_type": "code",
   "execution_count": 24,
   "metadata": {},
   "outputs": [
    {
     "name": "stderr",
     "output_type": "stream",
     "text": [
      "┌ Warning: same data; no commit and push\n",
      "└ @ PMO /Users/mourrain/Julia/PMO.jl/src/register.jl:266\n"
     ]
    }
   ],
   "source": [
    "push(t,F)"
   ]
  },
  {
   "cell_type": "markdown",
   "metadata": {},
   "source": [
    "The data would be modified locally and on the `git` server. But here because it is the same text, there is a warning saying that no modification is commited by `git`."
   ]
  },
  {
   "cell_type": "code",
   "execution_count": 25,
   "metadata": {},
   "outputs": [
    {
     "data": {
      "text/plain": [
       "Optimisation model:\n",
       "  type => polynomial\n",
       "  variables => Any[\"x\", \"y\"]\n",
       "  nvar => 2\n",
       "  objective => inf x^4*y^2 + x^2*y^4 - 3*x^2*y^2 + 1\n",
       "  name => Motzkin\n",
       "  version => 0.0.2\n",
       "  author => Bernard Mourrain\n",
       "  uuid => cb46cb04-83db-11ea-0b43-87115082d076\n",
       "  doc => Celebrate Motzkin polynomial, which is a non-negative polynomial, but not a Sum of Squares\n",
       "\n"
      ]
     },
     "execution_count": 25,
     "metadata": {},
     "output_type": "execute_result"
    }
   ],
   "source": [
    "t[2]"
   ]
  },
  {
   "cell_type": "markdown",
   "metadata": {},
   "source": [
    "#### Managing tables\n",
    "\n",
    "Tables can be saved and loaded from files, as illustrated in the following example.\n",
    "\n",
    "Suppose you want to work on all data related to `Motzkin`. First, you can select them from the PMO database and build a new database `tm`:"
   ]
  },
  {
   "cell_type": "code",
   "execution_count": 26,
   "metadata": {
    "scrolled": true
   },
   "outputs": [
    {
     "data": {
      "text/plain": [
       "PMO.DataBase(Table with 3 rows, 3 columns:\n",
       "Columns:\n",
       "\u001b[1m#  \u001b[22m\u001b[1mcolname  \u001b[22m\u001b[1mtype\u001b[22m\n",
       "──────────────────\n",
       "1  uuid     String\n",
       "2  name     String\n",
       "3  url      String)"
      ]
     },
     "execution_count": 26,
     "metadata": {},
     "output_type": "execute_result"
    }
   ],
   "source": [
    "using PMO\n",
    "t = PMO.table()\n",
    "tm = select(t,\"Motz\")"
   ]
  },
  {
   "cell_type": "markdown",
   "metadata": {},
   "source": [
    "Next you can save it in a file`motztable.csv` for futur use:"
   ]
  },
  {
   "cell_type": "code",
   "execution_count": 27,
   "metadata": {},
   "outputs": [],
   "source": [
    "PMO.write(\"motztable.csv\",tm)"
   ]
  },
  {
   "cell_type": "markdown",
   "metadata": {},
   "source": [
    "Once saved in the file local `motztable.csv`, the table can be reloaded without loading the complete PMO database, as follows:"
   ]
  },
  {
   "cell_type": "code",
   "execution_count": 28,
   "metadata": {},
   "outputs": [
    {
     "data": {
      "text/plain": [
       "PMO.DataBase(Table with 3 rows, 3 columns:\n",
       "Columns:\n",
       "\u001b[1m#  \u001b[22m\u001b[1mcolname  \u001b[22m\u001b[1mtype\u001b[22m\n",
       "──────────────────\n",
       "1  uuid     String\n",
       "2  name     String\n",
       "3  url      String)"
      ]
     },
     "execution_count": 28,
     "metadata": {},
     "output_type": "execute_result"
    }
   ],
   "source": [
    "tr = PMO.table(\"motztable.csv\")"
   ]
  },
  {
   "cell_type": "markdown",
   "metadata": {},
   "source": [
    "## Solving optimization problems"
   ]
  },
  {
   "cell_type": "markdown",
   "metadata": {},
   "source": [
    "The PMO data can be transformed with `vec` into an array of pairs of polynomials and constraints that can be easily used in other functions: "
   ]
  },
  {
   "cell_type": "code",
   "execution_count": 29,
   "metadata": {},
   "outputs": [
    {
     "data": {
      "text/plain": [
       "2-element Array{Any,1}:\n",
       " (x⁴y² + x²y⁴ - 3x²y² + 1, \"inf\")\n",
       " (-x² - y² + 2, \">=0\")           "
      ]
     },
     "execution_count": 29,
     "metadata": {},
     "output_type": "execute_result"
    }
   ],
   "source": [
    "P = t[r\"Motz.*bound\"][1]\n",
    "vec(P)"
   ]
  },
  {
   "cell_type": "markdown",
   "metadata": {},
   "source": [
    "Here is an illustration with the packages `MomentTools`, `MosekTools`, using the functions `vec` and `variables`:"
   ]
  },
  {
   "cell_type": "code",
   "execution_count": 30,
   "metadata": {},
   "outputs": [
    {
     "data": {
      "text/plain": [
       "2×4 Array{Float64,2}:\n",
       " -0.999949  -0.999949   0.999949  0.999949\n",
       " -0.999949   0.999949  -0.999949  0.999949"
      ]
     },
     "execution_count": 30,
     "metadata": {},
     "output_type": "execute_result"
    }
   ],
   "source": [
    "using MomentTools, MosekTools\n",
    "#optimizer = Mosek.Optimizer    #for verbose execution of Mosek solver\n",
    "using JuMP; optimizer = optimizer_with_attributes(Mosek.Optimizer, \"QUIET\"=>true)  # for silent execution.\n",
    "v, M = optimize(vec(P),variables(P), 3, optimizer)     # Moment relaxation at order 3\n",
    "get_minimizers(M) "
   ]
  },
  {
   "cell_type": "markdown",
   "metadata": {},
   "source": [
    "Here is another illustration with the package `TSSOS`:"
   ]
  },
  {
   "cell_type": "code",
   "execution_count": 31,
   "metadata": {},
   "outputs": [
    {
     "name": "stdout",
     "output_type": "stream",
     "text": [
      "***************************TSSOS***************************\n",
      "TSSOS is launching...\n",
      "Starting to compute the block structure...\n",
      "------------------------------------------------------\n",
      "The sizes of PSD blocks:\n",
      "[3, 1]\n",
      "[3, 1]\n",
      "------------------------------------------------------\n",
      "Obtained the block structure in 1.510642412 seconds. The maximal size of blocks is 3.\n",
      "Assembling the SDP...\n",
      "SDP assembling time: 0.440671189 seconds.\n",
      "Solving the SDP...\n",
      "Problem\n",
      "  Name                   :                 \n",
      "  Objective sense        : max             \n",
      "  Type                   : CONIC (conic optimization problem)\n",
      "  Constraints            : 10              \n",
      "  Cones                  : 0               \n",
      "  Scalar variables       : 5               \n",
      "  Matrix variables       : 4               \n",
      "  Integer variables      : 0               \n",
      "\n",
      "Optimizer started.\n",
      "Presolve started.\n",
      "Linear dependency checker started.\n",
      "Linear dependency checker terminated.\n",
      "Eliminator started.\n",
      "Freed constraints in eliminator : 0\n",
      "Eliminator terminated.\n",
      "Eliminator - tries                  : 1                 time                   : 0.00            \n",
      "Lin. dep.  - tries                  : 1                 time                   : 0.00            \n",
      "Lin. dep.  - number                 : 0               \n",
      "Presolve terminated. Time: 0.00    \n",
      "Problem\n",
      "  Name                   :                 \n",
      "  Objective sense        : max             \n",
      "  Type                   : CONIC (conic optimization problem)\n",
      "  Constraints            : 10              \n",
      "  Cones                  : 0               \n",
      "  Scalar variables       : 5               \n",
      "  Matrix variables       : 4               \n",
      "  Integer variables      : 0               \n",
      "\n",
      "Optimizer  - threads                : 8               \n",
      "Optimizer  - solved problem         : the primal      \n",
      "Optimizer  - Constraints            : 10\n",
      "Optimizer  - Cones                  : 1\n",
      "Optimizer  - Scalar variables       : 6                 conic                  : 2               \n",
      "Optimizer  - Semi-definite variables: 4                 scalarized             : 24              \n",
      "Factor     - setup time             : 0.00              dense det. time        : 0.00            \n",
      "Factor     - ML order time          : 0.00              GP order time          : 0.00            \n",
      "Factor     - nonzeros before factor : 55                after factor           : 55              \n",
      "Factor     - dense dim.             : 0                 flops                  : 1.41e+03        \n",
      "ITE PFEAS    DFEAS    GFEAS    PRSTATUS   POBJ              DOBJ              MU       TIME  \n",
      "0   1.0e+00  1.0e+00  1.0e+00  0.00e+00   0.000000000e+00   0.000000000e+00   1.0e+00  0.00  \n",
      "1   2.0e-01  2.0e-01  8.1e-02  9.56e-01   1.712872895e-01   2.063513219e-01   2.0e-01  0.00  \n",
      "2   5.1e-02  5.1e-02  1.1e-02  9.41e-01   2.266483202e-01   2.299661768e-01   5.1e-02  0.00  \n",
      "3   1.3e-02  1.3e-02  1.7e-03  8.59e-01   4.652531033e-02   4.555914349e-02   1.3e-02  0.00  \n",
      "4   3.4e-03  3.4e-03  2.2e-04  9.62e-01   2.391354417e-02   2.357564623e-02   3.4e-03  0.00  \n",
      "5   6.8e-04  6.8e-04  2.0e-05  9.62e-01   3.404219009e-03   3.293618087e-03   6.8e-04  0.00  \n",
      "6   1.6e-04  1.6e-04  2.3e-06  9.90e-01   1.313336097e-03   1.285565741e-03   1.6e-04  0.00  \n",
      "7   3.3e-05  3.3e-05  2.2e-07  9.91e-01   1.870730986e-04   1.805962032e-04   3.3e-05  0.00  \n",
      "8   8.5e-06  8.5e-06  2.9e-08  9.98e-01   6.886743972e-05   6.714025337e-05   8.5e-06  0.00  \n",
      "9   2.1e-06  2.1e-06  3.6e-09  9.95e-01   1.081379325e-05   1.037332647e-05   2.1e-06  0.00  \n",
      "10  6.0e-07  6.0e-07  5.5e-10  1.00e+00   5.144513141e-06   5.016232603e-06   6.0e-07  0.00  \n",
      "11  1.4e-07  1.4e-07  6.5e-11  9.97e-01   7.683624176e-07   7.375907013e-07   1.4e-07  0.00  \n",
      "12  3.9e-08  3.9e-08  9.2e-12  1.00e+00   3.300393819e-07   3.216346283e-07   3.9e-08  0.00  \n",
      "13  9.5e-09  9.7e-09  1.1e-12  9.98e-01   5.302807048e-08   5.098695566e-08   9.5e-09  0.00  \n",
      "Optimizer terminated. Time: 0.01    \n",
      "\n",
      "SDP solving time: 1.992188215 seconds.\n",
      "optimum = 5.30280704779727e-8\n"
     ]
    },
    {
     "data": {
      "text/plain": [
       "(5.30280704779727e-8, nothing, TSSOS.cpop_data(2, 0, 1, 0, PolyVar{true}[x, y], Polynomial{true,Int64}[x⁴y² + x²y⁴ - 3x²y² + 1, -x² - y² + 2], Polynomial{true,Int64}[], Array{UInt8}(undef,2,0), Array{UInt8,2}[[0x04 0x02 0x02 0x00; 0x02 0x04 0x02 0x00], [0x02 0x00 0x00; 0x00 0x02 0x00]], Array{Float64,1}[[1.0, 1.0, -3.0, 1.0], [-1.0, -1.0, 2.0]], Array{UInt8,2}[[0x00 0x01 … 0x01 0x00; 0x00 0x00 … 0x02 0x03], [0x00 0x01 … 0x01 0x00; 0x00 0x00 … 0x01 0x02]], UInt8[0x00 0x02 … 0x00 0x02; 0x00 0x00 … 0x06 0x02], [3, 1], [3, 1], Array{Array{UInt16,1},1}[[[0x0001, 0x0004, 0x0006], [0x0002, 0x0007, 0x0009], [0x0003, 0x0008, 0x000a], [0x0005]], [[0x0001, 0x0004, 0x0006], [0x0002], [0x0003], [0x0005]]], UInt16[0x0004, 0x0004], Array{UInt16,1}[[0x0003, 0x0003, 0x0003, 0x0001], [0x0003, 0x0001, 0x0001, 0x0001]], \"Mosek\", 0.0001, 1))"
      ]
     },
     "execution_count": 31,
     "metadata": {},
     "output_type": "execute_result"
    }
   ],
   "source": [
    "using TSSOS\n",
    "tssos_first(first.(vec(P)), variables(P), 3)"
   ]
  }
 ],
 "metadata": {
  "@webio": {
   "lastCommId": null,
   "lastKernelId": null
  },
  "kernelspec": {
   "display_name": "Julia 1.3.1",
   "language": "julia",
   "name": "julia-1.3"
  },
  "language_info": {
   "file_extension": ".jl",
   "mimetype": "application/julia",
   "name": "julia",
   "version": "1.3.1"
  }
 },
 "nbformat": 4,
 "nbformat_minor": 2
}
