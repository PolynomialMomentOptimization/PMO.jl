{
 "cells": [
  {
   "cell_type": "markdown",
   "metadata": {},
   "source": [
    "# Tutorial for using PMO database\n",
    "\n",
    "We illustrate briefly the main functionality of the package `PMO.jl` dedicated to Polynomial & Moment Optimization problems. \n",
    "\n",
    "## Polynomial data"
   ]
  },
  {
   "cell_type": "code",
   "execution_count": 1,
   "metadata": {},
   "outputs": [
    {
     "data": {
      "text/plain": [
       "\"A first polynomial example with two sign constraints and one equality constraint.\\n\""
      ]
     },
     "execution_count": 1,
     "metadata": {},
     "output_type": "execute_result"
    }
   ],
   "source": [
    "using PMO, DynamicPolynomials\n",
    "\n",
    "X = @polyvar x y\n",
    "\n",
    "o  = x^2*y^2+x^4-y^3\n",
    "g1 = x^2 + Float64(pi)*y^2 -2\n",
    "g2 = x\n",
    "\n",
    "h1 = 2*y^2-y\n",
    "\n",
    "\n",
    "F  = PMO.polynomial((o,\"inf\"),\n",
    "                    (g1,\"<=0\"),\n",
    "                    (g2,\">=0\"),\n",
    "                    (h1,\"=0\"))\n",
    "\n",
    "F[\"doc\"]= \n",
    "\"\"\"\n",
    "A first polynomial example with two sign constraints and one equality constraint.\n",
    "\"\"\""
   ]
  },
  {
   "cell_type": "markdown",
   "metadata": {},
   "source": [
    "The data `F` could also have been defined as follows:"
   ]
  },
  {
   "cell_type": "code",
   "execution_count": 2,
   "metadata": {},
   "outputs": [
    {
     "data": {
      "text/plain": [
       "Optimisation model:\n",
       "  type => polynomial\n",
       "  variables => [\"x\", \"y\"]\n",
       "  nvar => 2\n",
       "  constraints => [ x^2 + 3.141592653589793*y^2 - 2.0 <=0, x >=0, 2*y^2 - y =0 ]\n",
       "  objective => inf x^4 + x^2*y^2 - y^3\n",
       "  version => 0.0.1\n",
       "  uuid => ce2f3476-906b-11eb-2f69-6daccd795d6f\n"
      ]
     },
     "execution_count": 2,
     "metadata": {},
     "output_type": "execute_result"
    }
   ],
   "source": [
    "F  = PMO.data((o,\"inf\"),\n",
    "              (g1,\"<=0\"),\n",
    "              (g2,\">=0\"),\n",
    "              (h1,\"=0\") ; type = \"polynomial\")"
   ]
  },
  {
   "cell_type": "markdown",
   "metadata": {},
   "source": [
    "This object of type `PMOData` can be printed and saved in json format as follows:"
   ]
  },
  {
   "cell_type": "code",
   "execution_count": 3,
   "metadata": {},
   "outputs": [
    {
     "name": "stdout",
     "output_type": "stream",
     "text": [
      "{\n",
      "  \"type\": \"polynomial\",\n",
      "  \"variables\": [\n",
      "    \"x\",\n",
      "    \"y\"\n",
      "  ],\n",
      "  \"nvar\": 2,\n",
      "  \"constraints\": [\n",
      "    {\n",
      "      \"set\": \"<=0\",\n",
      "      \"polynomial\": {\n",
      "        \"coeftype\": \"Float64\",\n",
      "        \"terms\": [\n",
      "          [1.0,[2],[1]],\n",
      "          [3.141592653589793,[2],[2]],\n",
      "          [-2.0]\n",
      "        ]\n",
      "      }\n",
      "    },\n",
      "    {\n",
      "      \"set\": \">=0\",\n",
      "      \"polynomial\": {\n",
      "        \"coeftype\": \"Int64\",\n",
      "        \"terms\": [\n",
      "          [1,[1],[1]]\n",
      "        ]\n",
      "      }\n",
      "    },\n",
      "    {\n",
      "      \"set\": \"=0\",\n",
      "      \"polynomial\": {\n",
      "        \"coeftype\": \"Int64\",\n",
      "        \"terms\": [\n",
      "          [2,[2],[2]],\n",
      "          [-1,[1],[2]]\n",
      "        ]\n",
      "      }\n",
      "    }\n",
      "  ],\n",
      "  \"objective\": {\n",
      "    \"set\": \"inf\",\n",
      "    \"polynomial\": {\n",
      "      \"coeftype\": \"Int64\",\n",
      "      \"terms\": [\n",
      "        [1,[4],[1]],\n",
      "        [1,[2,2]],\n",
      "        [-1,[3],[2]]\n",
      "      ]\n",
      "    }\n",
      "  },\n",
      "  \"version\": \"0.0.1\",\n",
      "  \"uuid\": \"ce2f3476-906b-11eb-2f69-6daccd795d6f\"\n",
      "}\n"
     ]
    }
   ],
   "source": [
    "PMO.write(F)\n",
    "PMO.write(\"tmp.json\",F)"
   ]
  },
  {
   "cell_type": "markdown",
   "metadata": {},
   "source": [
    "We read the data saved in the file `tmp.json` and built the corresponding data `G` of type `PMOData`, which `json` format is the same as the one of `F`."
   ]
  },
  {
   "cell_type": "code",
   "execution_count": 4,
   "metadata": {},
   "outputs": [
    {
     "name": "stdout",
     "output_type": "stream",
     "text": [
      "{\n",
      "  \"type\": \"polynomial\",\n",
      "  \"variables\": [\n",
      "    \"x\",\n",
      "    \"y\"\n",
      "  ],\n",
      "  \"nvar\": 2,\n",
      "  \"constraints\": [\n",
      "    {\n",
      "      \"set\": \"<=0\",\n",
      "      \"polynomial\": {\n",
      "        \"coeftype\": \"Float64\",\n",
      "        \"terms\": [\n",
      "          [1.0,[2],[1]],\n",
      "          [3.141592653589793,[2],[2]],\n",
      "          [-2.0]\n",
      "        ]\n",
      "      }\n",
      "    },\n",
      "    {\n",
      "      \"set\": \">=0\",\n",
      "      \"polynomial\": {\n",
      "        \"coeftype\": \"Int64\",\n",
      "        \"terms\": [\n",
      "          [1,[1],[1]]\n",
      "        ]\n",
      "      }\n",
      "    },\n",
      "    {\n",
      "      \"set\": \"=0\",\n",
      "      \"polynomial\": {\n",
      "        \"coeftype\": \"Int64\",\n",
      "        \"terms\": [\n",
      "          [2,[2],[2]],\n",
      "          [-1,[1],[2]]\n",
      "        ]\n",
      "      }\n",
      "    }\n",
      "  ],\n",
      "  \"objective\": {\n",
      "    \"set\": \"inf\",\n",
      "    \"polynomial\": {\n",
      "      \"coeftype\": \"Int64\",\n",
      "      \"terms\": [\n",
      "        [1,[4],[1]],\n",
      "        [1,[2,2]],\n",
      "        [-1,[3],[2]]\n",
      "      ]\n",
      "    }\n",
      "  },\n",
      "  \"version\": \"0.0.1\",\n",
      "  \"uuid\": \"ce2f3476-906b-11eb-2f69-6daccd795d6f\"\n",
      "}\n"
     ]
    }
   ],
   "source": [
    "G  = PMO.read(\"tmp.json\")\n",
    "PMO.write(G)"
   ]
  },
  {
   "cell_type": "markdown",
   "metadata": {},
   "source": [
    "## Moment data"
   ]
  },
  {
   "cell_type": "code",
   "execution_count": 5,
   "metadata": {},
   "outputs": [
    {
     "data": {
      "text/plain": [
       "Optimisation model:\n",
       "  type => moment\n",
       "  variables => [\"x\", \"y\"]\n",
       "  nvar => 2\n",
       "  nms => 2\n",
       "  constraints => [ Polynomial{true,Float64}[x² + 3.141592653589793y² - 2.0, 0.0] * >=0, Polynomial{true,Int64}[0, x] * >=0, Polynomial{true,Float64}[2.0y² - y, 2.1xy² + x²] * =0 * ]\n",
       "  objective => inf Polynomial{true,Int64}[x⁴ + x²y² - y³, xy]\n",
       "  version => 0.0.1\n",
       "  uuid => d0a28690-906b-11eb-3ddf-f52a3c4d5b1c\n"
      ]
     },
     "execution_count": 5,
     "metadata": {},
     "output_type": "execute_result"
    }
   ],
   "source": [
    "using DynamicPolynomials, PMO\n",
    "@polyvar x y\n",
    "o1 = x^2*y^2+x^4-y^3\n",
    "o2 = x*y\n",
    "\n",
    "g1  = x^2 + Float64(pi)*y^2 -2\n",
    "g2 = x\n",
    "\n",
    "h1 = 2*y^2-y\n",
    "h2 = x^2+y*2.1*x*y\n",
    "\n",
    "F  = PMO.moment(([o1,o2],\"inf\"),\n",
    "                ([g1,0],\">=0\"),\n",
    "                ([0,g2], \">=0\"),\n",
    "                ([h1, h2], \"=0 *\")\n",
    "                )"
   ]
  },
  {
   "cell_type": "code",
   "execution_count": 6,
   "metadata": {},
   "outputs": [
    {
     "name": "stdout",
     "output_type": "stream",
     "text": [
      "{\n",
      "  \"type\": \"moment\",\n",
      "  \"variables\": [\n",
      "    \"x\",\n",
      "    \"y\"\n",
      "  ],\n",
      "  \"nvar\": 2,\n",
      "  \"nms\": 2,\n",
      "  \"constraints\": [\n",
      "    {\n",
      "      \"set\": \">=0\",\n",
      "      \"moments\": {\n",
      "        \"coeftype\": \"Float64\",\n",
      "        \"terms\": [\n",
      "          [1.0,1,[2],[1]],\n",
      "          [3.141592653589793,1,[2],[2]],\n",
      "          [-2.0,1]\n",
      "        ]\n",
      "      }\n",
      "    },\n",
      "    {\n",
      "      \"set\": \">=0\",\n",
      "      \"moments\": {\n",
      "        \"coeftype\": \"Int64\",\n",
      "        \"terms\": [\n",
      "          [1,2,[1],[1]]\n",
      "        ]\n",
      "      }\n",
      "    },\n",
      "    {\n",
      "      \"set\": \"=0 *\",\n",
      "      \"moments\": {\n",
      "        \"coeftype\": \"Float64\",\n",
      "        \"terms\": [\n",
      "          [2.0,1,[2],[2]],\n",
      "          [-1.0,1,[1],[2]],\n",
      "          [2.1,2,[1,2]],\n",
      "          [1.0,2,[2],[1]]\n",
      "        ]\n",
      "      }\n",
      "    }\n",
      "  ],\n",
      "  \"objective\": {\n",
      "    \"set\": \"inf\",\n",
      "    \"moments\": {\n",
      "      \"coeftype\": \"Int64\",\n",
      "      \"terms\": [\n",
      "        [1,1,[4],[1]],\n",
      "        [1,1,[2,2]],\n",
      "        [-1,1,[3],[2]],\n",
      "        [1,2,[1,1]]\n",
      "      ]\n",
      "    }\n",
      "  },\n",
      "  \"version\": \"0.0.1\",\n",
      "  \"uuid\": \"d0a28690-906b-11eb-3ddf-f52a3c4d5b1c\"\n",
      "}\n"
     ]
    }
   ],
   "source": [
    "PMO.write(\"tmp.json\",F)\n",
    "G  = PMO.read(\"tmp.json\")\n",
    "PMO.write(G)"
   ]
  },
  {
   "cell_type": "markdown",
   "metadata": {},
   "source": [
    "## SDP data"
   ]
  },
  {
   "cell_type": "code",
   "execution_count": 7,
   "metadata": {},
   "outputs": [
    {
     "data": {
      "text/plain": [
       "\"Two linear matrix inequalities, one linear scalar equality and one linear scalar inequality.\""
      ]
     },
     "execution_count": 7,
     "metadata": {},
     "output_type": "execute_result"
    }
   ],
   "source": [
    "using PMO, LinearAlgebra\n",
    "\n",
    "LMI1 = [Symmetric([2 -1 0; 0 2 0; 0 0 2]),\n",
    "        0,\n",
    "        Symmetric([2 0 -1; 0 2 0; 0 0 2])\n",
    "       ]\n",
    "\n",
    "LMI2 = [Symmetric([1 0; 0 -1]),\n",
    "        Symmetric([0 3; 3 0 ]),\n",
    "        0,\n",
    "        Symmetric([0 -1; -1 2])\n",
    "       ]\n",
    "\n",
    "F  = PMO.sdp(([1,2,3], \"inf\"),\n",
    "             (LMI1,\">=0\"),\n",
    "             (LMI2,\">=0\"),\n",
    "             ([1.1,2,0,-4], \"=0\"),\n",
    "             ([0,-1.2,3,-1],\"<=0\"),\n",
    "             )\n",
    "F[:name] = \"My first example\"\n",
    "F[:doc]  = \"Two linear matrix inequalities, one linear scalar equality and one linear scalar inequality.\""
   ]
  },
  {
   "cell_type": "code",
   "execution_count": 8,
   "metadata": {},
   "outputs": [
    {
     "name": "stdout",
     "output_type": "stream",
     "text": [
      "{\n",
      "  \"type\": \"sdp\",\n",
      "  \"nvar\": 3,\n",
      "  \"objective\": [1,2,3],\n",
      "  \"constraints\": {\n",
      "    \"nlmi\": 2,\n",
      "    \"msizes\": [3,2],\n",
      "    \"lmi_symat\": [\n",
      "      [2.0,1,1,1,1],\n",
      "      [-1.0,1,1,2,1],\n",
      "      [2.0,1,1,2,2],\n",
      "      [2.0,1,1,3,3],\n",
      "      [2.0,3,1,1,1],\n",
      "      [2.0,3,1,2,2],\n",
      "      [-1.0,3,1,3,1],\n",
      "      [2.0,3,1,3,3],\n",
      "      [1.0,1,2,1,1],\n",
      "      [-1.0,1,2,2,2],\n",
      "      [3.0,2,2,2,1],\n",
      "      [-1.0,0,2,2,1],\n",
      "      [2.0,0,2,2,2]\n",
      "    ],\n",
      "    \"nlsi\": 2,\n",
      "    \"lsi_mat\": [\n",
      "      [1.1,1,1],\n",
      "      [2.0,1,2],\n",
      "      [1.2,2,2],\n",
      "      [-3.0,2,3]\n",
      "    ],\n",
      "    \"lsi_vec\": [4.0,-1.0],\n",
      "    \"lsi_op\": [0,1]\n",
      "  },\n",
      "  \"version\": \"0.0.1\",\n",
      "  \"uuid\": \"d189fdfe-906b-11eb-05cb-6b43d77a542b\",\n",
      "  \"name\": \"My first example\",\n",
      "  \"doc\": \"Two linear matrix inequalities, one linear scalar equality and one linear scalar inequality.\"\n",
      "}\n"
     ]
    }
   ],
   "source": [
    "PMO.write(\"tmp.json\",F)\n",
    "G  = PMO.read(\"tmp.json\")\n",
    "PMO.write(G)"
   ]
  },
  {
   "cell_type": "code",
   "execution_count": 9,
   "metadata": {},
   "outputs": [
    {
     "data": {
      "text/plain": [
       "\"one LMI with one rank-1 matrix, 3 linear scalar constraints\\n\""
      ]
     },
     "execution_count": 9,
     "metadata": {},
     "output_type": "execute_result"
    }
   ],
   "source": [
    "LMI1 = [Symmetric([2 1 0; 0 1 0; 0 0 0]),\n",
    "        Symmetric([0 0 0; 0 1 1; 0 0 1]),\n",
    "        [[0,0,1]],\n",
    "        -Symmetric([0 0 0; 0 0 1; 0 0 0])]\n",
    "\n",
    "F  = PMO.sdp(([0,0,1], \"inf\"),\n",
    "             (LMI1, \">=0\"),\n",
    "             ([1, 1, 0 , -1], \"=0\"),\n",
    "             ([1, 0, 0 ], \">=0\"),\n",
    "             ([0, 1, 0 ], \">=0\")\n",
    "             )\n",
    "F[:name] = \"A second example\"\n",
    "F[:doc] =\n",
    "    \"\"\"\n",
    "    one LMI with one rank-1 matrix, 3 linear scalar constraints\n",
    "    \"\"\""
   ]
  },
  {
   "cell_type": "markdown",
   "metadata": {},
   "source": [
    "Here in `LMI1`, the third matrix is a low rank matrix, represented as a vector of vectors $u_i$ corresponding to $\\sum_i u_i\\otimes u_i$."
   ]
  },
  {
   "cell_type": "code",
   "execution_count": 10,
   "metadata": {},
   "outputs": [
    {
     "name": "stdout",
     "output_type": "stream",
     "text": [
      "{\n",
      "  \"type\": \"sdp\",\n",
      "  \"nvar\": 3,\n",
      "  \"objective\": [0,0,1],\n",
      "  \"constraints\": {\n",
      "    \"nlmi\": 1,\n",
      "    \"msizes\": 3,\n",
      "    \"lmi_symat\": [\n",
      "      [2.0,1,1,1,1],\n",
      "      [1.0,1,1,2,1],\n",
      "      [1.0,1,1,2,2],\n",
      "      [1.0,2,1,2,2],\n",
      "      [1.0,2,1,3,2],\n",
      "      [1.0,2,1,3,3],\n",
      "      [-1.0,0,1,3,2]\n",
      "    ],\n",
      "    \"lmi_lrmat\": [\n",
      "      [1.0,3,1,1,3]\n",
      "    ],\n",
      "    \"nlsi\": 3,\n",
      "    \"lsi_mat\": [\n",
      "      [1.0,1,1],\n",
      "      [1.0,1,2],\n",
      "      [1.0,2,1],\n",
      "      [1.0,3,2]\n",
      "    ],\n",
      "    \"lsi_vec\": [1.0,0.0,0.0],\n",
      "    \"lsi_op\": [0,1,1]\n",
      "  },\n",
      "  \"version\": \"0.0.1\",\n",
      "  \"uuid\": \"d21f28e8-906b-11eb-36c2-cf66614d5dbd\",\n",
      "  \"name\": \"A second example\",\n",
      "  \"doc\": \"one LMI with one rank-1 matrix, 3 linear scalar constraints\\n\"\n",
      "}\n"
     ]
    }
   ],
   "source": [
    "PMO.write(\"tmp.json\",F)\n",
    "G  = PMO.read(\"tmp.json\")\n",
    "PMO.write(G)"
   ]
  },
  {
   "cell_type": "markdown",
   "metadata": {},
   "source": [
    "## Registering and reading data"
   ]
  },
  {
   "cell_type": "markdown",
   "metadata": {},
   "source": [
    "The PMO data base is loaded as follows:"
   ]
  },
  {
   "cell_type": "code",
   "execution_count": 11,
   "metadata": {},
   "outputs": [
    {
     "data": {
      "text/plain": [
       "PMO.DataBase(Table with 11 rows, 3 columns:\n",
       "Columns:\n",
       "\u001b[1m#  \u001b[22m\u001b[1mcolname  \u001b[22m\u001b[1mtype\u001b[22m\n",
       "──────────────────\n",
       "1  uuid     String\n",
       "2  name     String\n",
       "3  url      String)"
      ]
     },
     "execution_count": 11,
     "metadata": {},
     "output_type": "execute_result"
    }
   ],
   "source": [
    "t = PMO.table()"
   ]
  },
  {
   "cell_type": "markdown",
   "metadata": {},
   "source": [
    "It is a table of triplets `(uuid , name, url)` of the data file. These files are stored in the local folder `$HOME/.julia/PMO/data`. This table only stores references to the PMO data."
   ]
  },
  {
   "cell_type": "markdown",
   "metadata": {},
   "source": [
    "## Selecting data"
   ]
  },
  {
   "cell_type": "markdown",
   "metadata": {},
   "source": [
    "Data can be selected from their `:name` attribute, by regular expressions or matching strings."
   ]
  },
  {
   "cell_type": "code",
   "execution_count": 12,
   "metadata": {},
   "outputs": [
    {
     "data": {
      "text/plain": [
       "PMO.DataBase(Table with 3 rows, 3 columns:\n",
       "Columns:\n",
       "\u001b[1m#  \u001b[22m\u001b[1mcolname  \u001b[22m\u001b[1mtype\u001b[22m\n",
       "──────────────────\n",
       "1  uuid     String\n",
       "2  name     String\n",
       "3  url      String)"
      ]
     },
     "execution_count": 12,
     "metadata": {},
     "output_type": "execute_result"
    }
   ],
   "source": [
    "t2 = select(t,r\"[Mm]otzkin\"); t3 = select(t,\"Motzkin\")"
   ]
  },
  {
   "cell_type": "markdown",
   "metadata": {},
   "source": [
    "This gives new tables `t2, t3` of triplets `(uuid,name,url)` (Here with 3 rows). \n",
    "\n",
    "To select one column of such a table, one can do the following:"
   ]
  },
  {
   "cell_type": "code",
   "execution_count": 13,
   "metadata": {},
   "outputs": [
    {
     "data": {
      "text/plain": [
       "3-element WeakRefStrings.StringArray{String,1}:\n",
       " \"Motzkin\"            \n",
       " \"Motzkin homogeneous\"\n",
       " \"Motzkin bounded\"    "
      ]
     },
     "execution_count": 13,
     "metadata": {},
     "output_type": "execute_result"
    }
   ],
   "source": [
    "select(t2, :name)"
   ]
  },
  {
   "cell_type": "markdown",
   "metadata": {},
   "source": [
    "We can recover the i$^{th}$ entry of the table as follows:"
   ]
  },
  {
   "cell_type": "code",
   "execution_count": 14,
   "metadata": {},
   "outputs": [
    {
     "data": {
      "text/plain": [
       "Optimisation model:\n",
       "  type => polynomial\n",
       "  variables => Any[\"x\", \"y\"]\n",
       "  nvar => 2\n",
       "  objective => inf x^4*y^2 + x^2*y^4 - 3*x^2*y^2 + 1\n",
       "  name => Motzkin\n",
       "  version => 0.0.1\n",
       "  author => Bernard Mourrain\n",
       "  uuid => cb46cb04-83db-11ea-0b43-87115082d076\n",
       "  doc => Celebrate Motzkin polynomial, which is a non-negative polynomial, but not a Sum of Squares\n",
       "\n"
      ]
     },
     "execution_count": 14,
     "metadata": {},
     "output_type": "execute_result"
    }
   ],
   "source": [
    "t2[1]"
   ]
  },
  {
   "cell_type": "markdown",
   "metadata": {},
   "source": [
    "Data can also be recovered from regular expressions matching their names:"
   ]
  },
  {
   "cell_type": "code",
   "execution_count": 15,
   "metadata": {},
   "outputs": [
    {
     "data": {
      "text/plain": [
       "3-element Array{Any,1}:\n",
       " Optimisation model:\n",
       "  type => polynomial\n",
       "  variables => Any[\"x\", \"y\"]\n",
       "  nvar => 2\n",
       "  objective => inf x^4*y^2 + x^2*y^4 - 3*x^2*y^2 + 1\n",
       "  name => Motzkin\n",
       "  version => 0.0.1\n",
       "  author => Bernard Mourrain\n",
       "  uuid => cb46cb04-83db-11ea-0b43-87115082d076\n",
       "  doc => Celebrate Motzkin polynomial, which is a non-negative polynomial, but not a Sum of Squares\n",
       "\n",
       "                          \n",
       " Optimisation model:\n",
       "  type => polynomial\n",
       "  variables => Any[\"x\", \"y\", \"z\"]\n",
       "  nvar => 3\n",
       "  constraints => [ x^2 + y^2 + z^2 - 1 =0 ]\n",
       "  objective => inf x^4*y^2 + x^2*y^4 - 3*x^2*y^2*z^2 + z^6\n",
       "  version => 0.0.2\n",
       "  uuid => e46b1efe-0a05-11eb-198e-0912f9f7d742\n",
       "  name => Motzkin homogeneous\n",
       "  doc => Homogeneous Motzkin polynomial on the unit sphere\n",
       "\n",
       "  author => Bernard Mourrain\n",
       "\n",
       " Optimisation model:\n",
       "  type => polynomial\n",
       "  variables => Any[\"x\", \"y\"]\n",
       "  nvar => 2\n",
       "  constraints => [ -x^2 - y^2 + 2 >=0 ]\n",
       "  objective => inf x^4*y^2 + x^2*y^4 - 3*x^2*y^2 + 1\n",
       "  version => 0.0.2\n",
       "  uuid => dab9e7be-19fa-11eb-329b-c5570aaed8a0\n",
       "  name => Motzkin bounded\n",
       "  author => Bernard Mourrain\n",
       "                                                                               "
      ]
     },
     "execution_count": 15,
     "metadata": {},
     "output_type": "execute_result"
    }
   ],
   "source": [
    "t2[r\"Motz\"]"
   ]
  },
  {
   "cell_type": "markdown",
   "metadata": {},
   "source": [
    "Or equivalently the elements, which name contains \"Motz\":"
   ]
  },
  {
   "cell_type": "code",
   "execution_count": 16,
   "metadata": {},
   "outputs": [
    {
     "data": {
      "text/plain": [
       "3-element Array{PMO.Data,1}:\n",
       " Optimisation model:\n",
       "  type => polynomial\n",
       "  variables => Any[\"x\", \"y\"]\n",
       "  nvar => 2\n",
       "  objective => inf x^4*y^2 + x^2*y^4 - 3*x^2*y^2 + 1\n",
       "  name => Motzkin\n",
       "  version => 0.0.1\n",
       "  author => Bernard Mourrain\n",
       "  uuid => cb46cb04-83db-11ea-0b43-87115082d076\n",
       "  doc => Celebrate Motzkin polynomial, which is a non-negative polynomial, but not a Sum of Squares\n",
       "\n",
       "                          \n",
       " Optimisation model:\n",
       "  type => polynomial\n",
       "  variables => Any[\"x\", \"y\", \"z\"]\n",
       "  nvar => 3\n",
       "  constraints => [ x^2 + y^2 + z^2 - 1 =0 ]\n",
       "  objective => inf x^4*y^2 + x^2*y^4 - 3*x^2*y^2*z^2 + z^6\n",
       "  version => 0.0.2\n",
       "  uuid => e46b1efe-0a05-11eb-198e-0912f9f7d742\n",
       "  name => Motzkin homogeneous\n",
       "  doc => Homogeneous Motzkin polynomial on the unit sphere\n",
       "\n",
       "  author => Bernard Mourrain\n",
       "\n",
       " Optimisation model:\n",
       "  type => polynomial\n",
       "  variables => Any[\"x\", \"y\"]\n",
       "  nvar => 2\n",
       "  constraints => [ -x^2 - y^2 + 2 >=0 ]\n",
       "  objective => inf x^4*y^2 + x^2*y^4 - 3*x^2*y^2 + 1\n",
       "  version => 0.0.2\n",
       "  uuid => dab9e7be-19fa-11eb-329b-c5570aaed8a0\n",
       "  name => Motzkin bounded\n",
       "  author => Bernard Mourrain\n",
       "                                                                               "
      ]
     },
     "execution_count": 16,
     "metadata": {},
     "output_type": "execute_result"
    }
   ],
   "source": [
    "m = t3[\"Motz\"]"
   ]
  },
  {
   "cell_type": "markdown",
   "metadata": {},
   "source": [
    "## Udating the database"
   ]
  },
  {
   "cell_type": "markdown",
   "metadata": {},
   "source": [
    "The database can be updated from the git server as follows:"
   ]
  },
  {
   "cell_type": "code",
   "execution_count": 17,
   "metadata": {},
   "outputs": [
    {
     "name": "stderr",
     "output_type": "stream",
     "text": [
      "┌ Info: PMO update data\n",
      "└ @ PMO /Users/mourrain/Julia/PMO.jl/src/register.jl:40\n"
     ]
    },
    {
     "data": {
      "text/plain": [
       "Table with 11 rows, 3 columns:\n",
       "Columns:\n",
       "\u001b[1m#  \u001b[22m\u001b[1mcolname  \u001b[22m\u001b[1mtype\u001b[22m\n",
       "──────────────────\n",
       "1  uuid     String\n",
       "2  name     String\n",
       "3  url      String"
      ]
     },
     "execution_count": 17,
     "metadata": {},
     "output_type": "execute_result"
    }
   ],
   "source": [
    "update(t)"
   ]
  },
  {
   "cell_type": "markdown",
   "metadata": {},
   "source": [
    "#### Adding new data\n",
    "\n",
    "New data can be added as follows. First we create the data:"
   ]
  },
  {
   "cell_type": "code",
   "execution_count": 18,
   "metadata": {},
   "outputs": [
    {
     "data": {
      "text/plain": [
       "\"Motzkin bounded\""
      ]
     },
     "execution_count": 18,
     "metadata": {},
     "output_type": "execute_result"
    }
   ],
   "source": [
    "using PMO, DynamicPolynomials\n",
    "X = @polyvar x y\n",
    "motz = x^4*y^2 + x^2*y^4 + 1 - 3*x^2*y^2\n",
    "\n",
    "Motz = PMO.data((motz,\"inf\"), (2-x^2-y^2, \">=0\"))\n",
    "Motz[:name] = \"Motzkin bounded\""
   ]
  },
  {
   "cell_type": "markdown",
   "metadata": {},
   "source": [
    "Now we push it in the database with the file name `motzkin_bounded`:"
   ]
  },
  {
   "cell_type": "code",
   "execution_count": 19,
   "metadata": {},
   "outputs": [
    {
     "name": "stderr",
     "output_type": "stream",
     "text": [
      "┌ Warning: data[:author] not defined; data not pushed to database\n",
      "└ @ PMO /Users/mourrain/Julia/PMO.jl/src/register.jl:288\n"
     ]
    }
   ],
   "source": [
    "t = PMO.table()\n",
    "push(t, Motz, file=\"motzkin_bounded\")"
   ]
  },
  {
   "cell_type": "markdown",
   "metadata": {},
   "source": [
    "The name `motzkin_bounded` specifies the file used to store the data. \n",
    "\n",
    "Here we get a warning because the attribute `:author` is not defined in Motz. So we define it and retry:"
   ]
  },
  {
   "cell_type": "code",
   "execution_count": 20,
   "metadata": {},
   "outputs": [
    {
     "name": "stderr",
     "output_type": "stream",
     "text": [
      "┌ Info: PMO update data\n",
      "└ @ PMO /Users/mourrain/Julia/PMO.jl/src/register.jl:40\n",
      "┌ Info: PMO data motzkin_bounded.json already exists\n",
      "└ @ PMO /Users/mourrain/Julia/PMO.jl/src/register.jl:116\n",
      "┌ Info: PMO add data motzkin_bounded.1.json\n",
      "└ @ PMO /Users/mourrain/Julia/PMO.jl/src/register.jl:129\n",
      "┌ Info: PMO update registery\n",
      "└ @ PMO /Users/mourrain/Julia/PMO.jl/src/register.jl:176\n",
      "┌ Info: PMO update data\n",
      "└ @ PMO /Users/mourrain/Julia/PMO.jl/src/register.jl:40\n",
      "┌ Info: PMO update table\n",
      "└ @ PMO /Users/mourrain/Julia/PMO.jl/src/register.jl:298\n"
     ]
    }
   ],
   "source": [
    "Motz[:author] = \"Joe Test\"\n",
    "push(t, Motz, file=\"motzkin_bounded\")"
   ]
  },
  {
   "cell_type": "markdown",
   "metadata": {},
   "source": [
    "We see that the file name `motzkin_bounded` is already used so that the data is stored as the file `motzkin_bounded.1.json` in the folder `json`of the data project `PMO.PMO_GIT_DATA_URL`. The index table of the registry folder is updated with a line per data. A local version of the data bases and index files are updated; `git` command to commit and push the changes on the `git` projects."
   ]
  },
  {
   "cell_type": "markdown",
   "metadata": {},
   "source": [
    "Data can be removed from the database as follows:"
   ]
  },
  {
   "cell_type": "code",
   "execution_count": 21,
   "metadata": {},
   "outputs": [
    {
     "name": "stderr",
     "output_type": "stream",
     "text": [
      "┌ Info: PMO remove data motzkin_bounded.1.json\n",
      "└ @ PMO /Users/mourrain/Julia/PMO.jl/src/register.jl:107\n"
     ]
    }
   ],
   "source": [
    "PMO.rm(t, Motz)"
   ]
  },
  {
   "cell_type": "markdown",
   "metadata": {},
   "source": [
    "#### Modifying a data \n",
    "\n",
    "Here, it is showing how to modify an element and update of the database:"
   ]
  },
  {
   "cell_type": "code",
   "execution_count": 22,
   "metadata": {},
   "outputs": [
    {
     "data": {
      "text/plain": [
       "\"Celebrate Motzkin polynomial, which is a non-negative polynomial, but not a Sum of Squares\\n\""
      ]
     },
     "execution_count": 22,
     "metadata": {},
     "output_type": "execute_result"
    }
   ],
   "source": [
    "F = t[2]\n",
    "\n",
    "F[:doc] = \"\"\"\n",
    "Celebrate Motzkin polynomial, which is a non-negative polynomial, but not a Sum of Squares\n",
    "\"\"\""
   ]
  },
  {
   "cell_type": "markdown",
   "metadata": {},
   "source": [
    "To update of the database element of the table `t`:"
   ]
  },
  {
   "cell_type": "code",
   "execution_count": 23,
   "metadata": {},
   "outputs": [
    {
     "name": "stderr",
     "output_type": "stream",
     "text": [
      "┌ Warning: same data; no commit and push\n",
      "└ @ PMO /Users/mourrain/Julia/PMO.jl/src/register.jl:306\n"
     ]
    }
   ],
   "source": [
    "push(t,F)"
   ]
  },
  {
   "cell_type": "markdown",
   "metadata": {},
   "source": [
    "The data is modified localy and on the `git` server."
   ]
  },
  {
   "cell_type": "code",
   "execution_count": 25,
   "metadata": {},
   "outputs": [
    {
     "data": {
      "text/plain": [
       "Optimisation model:\n",
       "  type => polynomial\n",
       "  variables => Any[\"x\", \"y\"]\n",
       "  nvar => 2\n",
       "  objective => inf x^4*y^2 + x^2*y^4 - 3*x^2*y^2 + 1\n",
       "  name => Motzkin\n",
       "  version => 0.0.1\n",
       "  author => Bernard Mourrain\n",
       "  uuid => cb46cb04-83db-11ea-0b43-87115082d076\n",
       "  doc => Celebrate Motzkin polynomial, which is a non-negative polynomial, but not a Sum of Squares\n",
       "\n"
      ]
     },
     "execution_count": 25,
     "metadata": {},
     "output_type": "execute_result"
    }
   ],
   "source": [
    "t[2]"
   ]
  }
 ],
 "metadata": {
  "@webio": {
   "lastCommId": null,
   "lastKernelId": null
  },
  "kernelspec": {
   "display_name": "Julia 1.3.1",
   "language": "julia",
   "name": "julia-1.3"
  },
  "language_info": {
   "file_extension": ".jl",
   "mimetype": "application/julia",
   "name": "julia",
   "version": "1.3.1"
  }
 },
 "nbformat": 4,
 "nbformat_minor": 2
}
