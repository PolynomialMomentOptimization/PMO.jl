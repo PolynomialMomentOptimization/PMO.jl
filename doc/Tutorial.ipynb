{
 "cells": [
  {
   "cell_type": "markdown",
   "metadata": {},
   "source": [
    "# Tutorial for using PMO database\n",
    "\n",
    "We illustrate briefly the main functionality of the package `PMO.jl` dedicated to Polynomial & Moment Optimization problems. \n",
    "\n",
    "## Polynomial data"
   ]
  },
  {
   "cell_type": "markdown",
   "metadata": {},
   "source": [
    "Polynomial optimization problems are of the form \n",
    "$$\n",
    "\\begin{array}{rl}\n",
    "\\inf_{x\\in \\mathbb{R}^n} & f(x)\\\\ \n",
    " s.t. & g_1(x)\\ge 0, \\ldots, g_s(x) \\geq 0\\\\\n",
    "      & h_1(x) = 0, \\ldots, h_t(x) =0\n",
    "\\end{array}\n",
    "$$\n",
    "where $f, g_1, \\ldots, g_s, h_1, ..., h_t \\in \\mathbb{R}[x_1, \\ldots, x_n]$.\n",
    "\n",
    " * $f$ is the objective function,\n",
    " * $g_1, \\ldots, g_s$ are sign constraints,\n",
    " * $h_1, ..., h_t$ are equality constraints."
   ]
  },
  {
   "cell_type": "code",
   "execution_count": 1,
   "metadata": {},
   "outputs": [
    {
     "name": "stderr",
     "output_type": "stream",
     "text": [
      "┌ Info: Precompiling PMO [fbf10557-b722-42fa-b9dc-91a07c0260e4]\n",
      "└ @ Base loading.jl:1273\n"
     ]
    },
    {
     "data": {
      "text/plain": [
       "\"A first polynomial example with two sign constraints and one equality constraint.\\n\""
      ]
     },
     "execution_count": 1,
     "metadata": {},
     "output_type": "execute_result"
    }
   ],
   "source": [
    "using PMO, DynamicPolynomials\n",
    "\n",
    "X = @polyvar x y\n",
    "\n",
    "f  = x^2*y^2+x^4-y^3\n",
    "g1 = x^2 + Float64(pi)*y^2 -2\n",
    "g2 = x\n",
    "\n",
    "h1 = 2*y^2-y\n",
    "\n",
    "\n",
    "F  = PMO.polynomial((f,\"inf\"),\n",
    "                    (g1,\"<=0\"),\n",
    "                    (g2,\">=0\"),\n",
    "                    (h1,\"=0\"))\n",
    "\n",
    "F[\"doc\"]= \n",
    "\"\"\"\n",
    "A first polynomial example with two sign constraints and one equality constraint.\n",
    "\"\"\""
   ]
  },
  {
   "cell_type": "markdown",
   "metadata": {},
   "source": [
    "Sign constraints  can be of the form `\"<=0\"` and `\">=0\"`. Notice that `\">0\"`or `\"<0\"` are **not** handled.  \n",
    "\n",
    "The same data `F` could also have been defined as follows:"
   ]
  },
  {
   "cell_type": "code",
   "execution_count": 2,
   "metadata": {},
   "outputs": [
    {
     "data": {
      "text/plain": [
       "Optimisation model:\n",
       "  type => polynomial\n",
       "  variables => [\"x\", \"y\"]\n",
       "  nvar => 2\n",
       "  constraints => [ x^2 + 3.141592653589793*y^2 - 2.0 <=0, x >=0, 2*y^2 - y =0 ]\n",
       "  objective => inf x^4 + x^2*y^2 - y^3\n",
       "  version => 0.0.1\n",
       "  uuid => da37654c-9154-11eb-16a1-afb8fe4392d1\n"
      ]
     },
     "execution_count": 2,
     "metadata": {},
     "output_type": "execute_result"
    }
   ],
   "source": [
    "F  = PMO.data((f,\"inf\"),\n",
    "              (g1,\"<=0\"),\n",
    "              (g2,\">=0\"),\n",
    "              (h1,\"=0\") ; type = \"polynomial\")"
   ]
  },
  {
   "cell_type": "markdown",
   "metadata": {},
   "source": [
    "This object of type `PMOData` can be printed and saved in json format as follows:"
   ]
  },
  {
   "cell_type": "code",
   "execution_count": 3,
   "metadata": {},
   "outputs": [
    {
     "name": "stdout",
     "output_type": "stream",
     "text": [
      "{\n",
      "  \"type\": \"polynomial\",\n",
      "  \"variables\": [\n",
      "    \"x\",\n",
      "    \"y\"\n",
      "  ],\n",
      "  \"nvar\": 2,\n",
      "  \"constraints\": [\n",
      "    {\n",
      "      \"set\": \"<=0\",\n",
      "      \"polynomial\": {\n",
      "        \"coeftype\": \"Float64\",\n",
      "        \"terms\": [\n",
      "          [1.0,[2],[1]],\n",
      "          [3.141592653589793,[2],[2]],\n",
      "          [-2.0]\n",
      "        ]\n",
      "      }\n",
      "    },\n",
      "    {\n",
      "      \"set\": \">=0\",\n",
      "      \"polynomial\": {\n",
      "        \"coeftype\": \"Int64\",\n",
      "        \"terms\": [\n",
      "          [1,[1],[1]]\n",
      "        ]\n",
      "      }\n",
      "    },\n",
      "    {\n",
      "      \"set\": \"=0\",\n",
      "      \"polynomial\": {\n",
      "        \"coeftype\": \"Int64\",\n",
      "        \"terms\": [\n",
      "          [2,[2],[2]],\n",
      "          [-1,[1],[2]]\n",
      "        ]\n",
      "      }\n",
      "    }\n",
      "  ],\n",
      "  \"objective\": {\n",
      "    \"set\": \"inf\",\n",
      "    \"polynomial\": {\n",
      "      \"coeftype\": \"Int64\",\n",
      "      \"terms\": [\n",
      "        [1,[4],[1]],\n",
      "        [1,[2,2]],\n",
      "        [-1,[3],[2]]\n",
      "      ]\n",
      "    }\n",
      "  },\n",
      "  \"version\": \"0.0.1\",\n",
      "  \"uuid\": \"da37654c-9154-11eb-16a1-afb8fe4392d1\"\n",
      "}\n"
     ]
    }
   ],
   "source": [
    "PMO.write(F)\n",
    "PMO.write(\"tmp.json\",F)"
   ]
  },
  {
   "cell_type": "markdown",
   "metadata": {},
   "source": [
    "We read the data saved in the file `tmp.json` and built the corresponding data `G` of type `PMOData`, which `json` format is the same as the one of `F`."
   ]
  },
  {
   "cell_type": "code",
   "execution_count": 4,
   "metadata": {},
   "outputs": [
    {
     "name": "stdout",
     "output_type": "stream",
     "text": [
      "{\n",
      "  \"type\": \"polynomial\",\n",
      "  \"variables\": [\n",
      "    \"x\",\n",
      "    \"y\"\n",
      "  ],\n",
      "  \"nvar\": 2,\n",
      "  \"constraints\": [\n",
      "    {\n",
      "      \"set\": \"<=0\",\n",
      "      \"polynomial\": {\n",
      "        \"coeftype\": \"Float64\",\n",
      "        \"terms\": [\n",
      "          [1.0,[2],[1]],\n",
      "          [3.141592653589793,[2],[2]],\n",
      "          [-2.0]\n",
      "        ]\n",
      "      }\n",
      "    },\n",
      "    {\n",
      "      \"set\": \">=0\",\n",
      "      \"polynomial\": {\n",
      "        \"coeftype\": \"Int64\",\n",
      "        \"terms\": [\n",
      "          [1,[1],[1]]\n",
      "        ]\n",
      "      }\n",
      "    },\n",
      "    {\n",
      "      \"set\": \"=0\",\n",
      "      \"polynomial\": {\n",
      "        \"coeftype\": \"Int64\",\n",
      "        \"terms\": [\n",
      "          [2,[2],[2]],\n",
      "          [-1,[1],[2]]\n",
      "        ]\n",
      "      }\n",
      "    }\n",
      "  ],\n",
      "  \"objective\": {\n",
      "    \"set\": \"inf\",\n",
      "    \"polynomial\": {\n",
      "      \"coeftype\": \"Int64\",\n",
      "      \"terms\": [\n",
      "        [1,[4],[1]],\n",
      "        [1,[2,2]],\n",
      "        [-1,[3],[2]]\n",
      "      ]\n",
      "    }\n",
      "  },\n",
      "  \"version\": \"0.0.1\",\n",
      "  \"uuid\": \"da37654c-9154-11eb-16a1-afb8fe4392d1\"\n",
      "}\n"
     ]
    }
   ],
   "source": [
    "G  = PMO.read(\"tmp.json\")\n",
    "PMO.write(G)"
   ]
  },
  {
   "cell_type": "markdown",
   "metadata": {},
   "source": [
    "## Moment data"
   ]
  },
  {
   "cell_type": "markdown",
   "metadata": {},
   "source": [
    "Moment optimization problems are of the form \n",
    "$$\n",
    "\\begin{array}{rl}\n",
    "\\inf_{\\mu_j\\in \\mathbb{R}[x_1, \\ldots, x_n]^* } & \\langle\\mu_1|f_1\\rangle+\\cdots +\\langle\\mu_\\nu|f_\\nu\\rangle\\\\ \n",
    " s.t. & \\sum_{j=1}^{\\nu} g_{1,j} \\star \\mu_j \\succeq 0, \\ldots, \\sum_{j=1}^{\\nu} g_{s,j} \\star \\mu_j \\succeq 0\\\\\n",
    "      & \\sum_{j=1}^{\\nu} h_{1,j} \\star \\mu_j = 0, \\ldots, \\sum_{j=1}^{\\nu} h_{t,j} \\star \\mu_j =0\\\\\n",
    "      & \\sum_{j=1}^{\\nu} \\langle\\mu_j|l_{1,j}\\rangle\\ge 0, \\ldots, \\sum_{j=1}^{\\nu}\\langle\\mu_j|l_{u,j}\\rangle\\ge 0\\\\\n",
    "      & \\sum_{j=1}^{\\nu} \\langle\\mu_j|m_{1,j}\\rangle = 0, \\ldots,  \\sum_{j=1}^{\\nu}\\langle\\mu_j|l_{v,j}\\rangle = 0\n",
    "\\end{array}\n",
    "$$\n",
    "where\n",
    "  * $\\mu_1, \\ldots, \\mu_\\nu$ are moment sequences, i.e. elements of the dual $\\mathbb{R}[x_1, \\ldots, x_n]^*$,\n",
    "  * $f, g_{i,j}, h_{i,j}, l_{i,j}, m_{i,j}\\in \\mathbb{R}[x_1, \\ldots, x_n]$.\n",
    "\n",
    "The constraints $\\sum_{j=1}^{\\nu} \\langle\\mu_i|l_{i,j}\\rangle\\ge 0$, $\\sum_{j=1}^{\\nu} \\langle\\mu_j|m_{i,j}\\rangle = 0$ are respectively mass sign constraints and mass equality constraints.\n",
    "\n",
    "The product $\\star$ is defined as follows: for $p\\in \\mathbb{R}[x_1, \\ldots, x_n], \\mu \\in \\mathbb{R}[x_1, \\ldots, x_n]^*$, $p\\star \\mu : q \\mapsto \\langle p\\star \\mu|q\\rangle:= \\langle\\mu| p q\\rangle$.  "
   ]
  },
  {
   "cell_type": "code",
   "execution_count": 5,
   "metadata": {},
   "outputs": [
    {
     "data": {
      "text/plain": [
       "Optimisation model:\n",
       "  type => moment\n",
       "  variables => [\"x\", \"y\"]\n",
       "  nvar => 2\n",
       "  nms => 2\n",
       "  constraints => [ Polynomial{true,Float64}[x² + 3.141592653589793y² - 2.0, 0.0] * >=0, Polynomial{true,Int64}[0, x] * >=0, Polynomial{true,Float64}[2.0y² - y, 2.1xy² + x²] * =0 * ]\n",
       "  objective => inf Polynomial{true,Int64}[x⁴ + x²y² - y³, xy]\n",
       "  version => 0.0.1\n",
       "  uuid => dc815b50-9154-11eb-3dca-93acb42c6bb6\n"
      ]
     },
     "execution_count": 5,
     "metadata": {},
     "output_type": "execute_result"
    }
   ],
   "source": [
    "using DynamicPolynomials, PMO\n",
    "@polyvar x y\n",
    "f1 = x^2*y^2+x^4-y^3\n",
    "f2 = x*y\n",
    "\n",
    "g1  = x^2 + Float64(pi)*y^2 -2\n",
    "g2 = x\n",
    "\n",
    "h1 = 2*y^2-y\n",
    "h2 = x^2+y*2.1*x*y\n",
    "\n",
    "F  = PMO.moment(([f1,f2],\"inf\"),\n",
    "                ([g1,0],\">=0\"),\n",
    "                ([0,g2], \">=0\"),\n",
    "                ([h1, h2], \"=0 *\")\n",
    "                )"
   ]
  },
  {
   "cell_type": "code",
   "execution_count": 6,
   "metadata": {},
   "outputs": [
    {
     "name": "stdout",
     "output_type": "stream",
     "text": [
      "{\n",
      "  \"type\": \"moment\",\n",
      "  \"variables\": [\n",
      "    \"x\",\n",
      "    \"y\"\n",
      "  ],\n",
      "  \"nvar\": 2,\n",
      "  \"nms\": 2,\n",
      "  \"constraints\": [\n",
      "    {\n",
      "      \"set\": \">=0\",\n",
      "      \"moments\": {\n",
      "        \"coeftype\": \"Float64\",\n",
      "        \"terms\": [\n",
      "          [1.0,1,[2],[1]],\n",
      "          [3.141592653589793,1,[2],[2]],\n",
      "          [-2.0,1]\n",
      "        ]\n",
      "      }\n",
      "    },\n",
      "    {\n",
      "      \"set\": \">=0\",\n",
      "      \"moments\": {\n",
      "        \"coeftype\": \"Int64\",\n",
      "        \"terms\": [\n",
      "          [1,2,[1],[1]]\n",
      "        ]\n",
      "      }\n",
      "    },\n",
      "    {\n",
      "      \"set\": \"=0 *\",\n",
      "      \"moments\": {\n",
      "        \"coeftype\": \"Float64\",\n",
      "        \"terms\": [\n",
      "          [2.0,1,[2],[2]],\n",
      "          [-1.0,1,[1],[2]],\n",
      "          [2.1,2,[1,2]],\n",
      "          [1.0,2,[2],[1]]\n",
      "        ]\n",
      "      }\n",
      "    }\n",
      "  ],\n",
      "  \"objective\": {\n",
      "    \"set\": \"inf\",\n",
      "    \"moments\": {\n",
      "      \"coeftype\": \"Int64\",\n",
      "      \"terms\": [\n",
      "        [1,1,[4],[1]],\n",
      "        [1,1,[2,2]],\n",
      "        [-1,1,[3],[2]],\n",
      "        [1,2,[1,1]]\n",
      "      ]\n",
      "    }\n",
      "  },\n",
      "  \"version\": \"0.0.1\",\n",
      "  \"uuid\": \"dc815b50-9154-11eb-3dca-93acb42c6bb6\"\n",
      "}\n"
     ]
    }
   ],
   "source": [
    "PMO.write(\"tmp.json\",F)\n",
    "G  = PMO.read(\"tmp.json\")\n",
    "PMO.write(G)"
   ]
  },
  {
   "cell_type": "markdown",
   "metadata": {},
   "source": [
    "## SDP data"
   ]
  },
  {
   "cell_type": "markdown",
   "metadata": {},
   "source": [
    "SDP optimization problems are of the form\n",
    "$$\n",
    "\\begin{array}{rl}\n",
    "\\inf_{x\\in \\mathbb{R}^n} & f^T x \\\\ \n",
    " s.t. & \\sum_{j=1}^{n} A_{1,j} x_j + A_{1,0} \\succeq 0, \\ldots, \\sum_{j=1}^{n} A_{s,j} x_j + A_{s,0} \\succeq 0\\\\\n",
    "      & \\sum_{j=1}^{n} c_{1,1}^T x + d_{1,1}\\ge 0, \\ldots, \\sum_{j=1}^{n} c_{1,u}^T x + d_{1,u}\\ge 0\\\\\n",
    "      & \\sum_{j=1}^{n} c_{0,1}^T x + d_{0,1}\\ge 0, \\ldots, \\sum_{j=1}^{n} c_{0,v}^T x + d_{0,v} = 0\n",
    "\\end{array}\n",
    "$$\n",
    "where $f, c_{i,j} \\in \\mathbb{R}^n$, $d_{i,j}\\in \\mathbb{R}$, $A_{i,j} \\in S^{n_i}$ are symmetric matrices of size $n_i$."
   ]
  },
  {
   "cell_type": "code",
   "execution_count": 7,
   "metadata": {},
   "outputs": [
    {
     "data": {
      "text/plain": [
       "\"Two linear matrix inequalities, one linear scalar equality and one linear scalar inequality.\""
      ]
     },
     "execution_count": 7,
     "metadata": {},
     "output_type": "execute_result"
    }
   ],
   "source": [
    "using PMO, LinearAlgebra\n",
    "\n",
    "LMI1 = [Symmetric([2 -1 0; 0 2 0; 0 0 2]),\n",
    "        0,\n",
    "        Symmetric([2 0 -1; 0 2 0; 0 0 2])\n",
    "       ]\n",
    "\n",
    "LMI2 = [Symmetric([1 0; 0 -1]),\n",
    "        Symmetric([0 3; 3 0 ]),\n",
    "        0,\n",
    "        Symmetric([0 -1; -1 2])\n",
    "       ]\n",
    "\n",
    "F  = PMO.sdp(([1,2,3], \"inf\"),\n",
    "             (LMI1,\">=0\"),\n",
    "             (LMI2,\">=0\"),\n",
    "             ([1.1,2,0,-4], \"=0\"),\n",
    "             ([0,-1.2,3,-1],\"<=0\"),\n",
    "             )\n",
    "F[:name] = \"My first example\"\n",
    "F[:doc]  = \"Two linear matrix inequalities, one linear scalar equality and one linear scalar inequality.\""
   ]
  },
  {
   "cell_type": "code",
   "execution_count": 8,
   "metadata": {},
   "outputs": [
    {
     "name": "stdout",
     "output_type": "stream",
     "text": [
      "{\n",
      "  \"type\": \"sdp\",\n",
      "  \"nvar\": 3,\n",
      "  \"objective\": [1,2,3],\n",
      "  \"constraints\": {\n",
      "    \"nlmi\": 2,\n",
      "    \"msizes\": [3,2],\n",
      "    \"lmi_symat\": [\n",
      "      [2.0,1,1,1,1],\n",
      "      [-1.0,1,1,2,1],\n",
      "      [2.0,1,1,2,2],\n",
      "      [2.0,1,1,3,3],\n",
      "      [2.0,3,1,1,1],\n",
      "      [2.0,3,1,2,2],\n",
      "      [-1.0,3,1,3,1],\n",
      "      [2.0,3,1,3,3],\n",
      "      [1.0,1,2,1,1],\n",
      "      [-1.0,1,2,2,2],\n",
      "      [3.0,2,2,2,1],\n",
      "      [-1.0,0,2,2,1],\n",
      "      [2.0,0,2,2,2]\n",
      "    ],\n",
      "    \"nlsi\": 2,\n",
      "    \"lsi_mat\": [\n",
      "      [1.1,1,1],\n",
      "      [2.0,1,2],\n",
      "      [1.2,2,2],\n",
      "      [-3.0,2,3]\n",
      "    ],\n",
      "    \"lsi_vec\": [4.0,-1.0],\n",
      "    \"lsi_op\": [0,1]\n",
      "  },\n",
      "  \"version\": \"0.0.1\",\n",
      "  \"uuid\": \"dd6731ca-9154-11eb-05ba-a1de43b433cb\",\n",
      "  \"name\": \"My first example\",\n",
      "  \"doc\": \"Two linear matrix inequalities, one linear scalar equality and one linear scalar inequality.\"\n",
      "}\n"
     ]
    }
   ],
   "source": [
    "PMO.write(\"tmp.json\",F)\n",
    "G  = PMO.read(\"tmp.json\")\n",
    "PMO.write(G)"
   ]
  },
  {
   "cell_type": "code",
   "execution_count": 9,
   "metadata": {},
   "outputs": [
    {
     "data": {
      "text/plain": [
       "\"one LMI with one rank-1 matrix, 3 linear scalar constraints\\n\""
      ]
     },
     "execution_count": 9,
     "metadata": {},
     "output_type": "execute_result"
    }
   ],
   "source": [
    "LMI1 = [Symmetric([2 1 0; 0 1 0; 0 0 0]),\n",
    "        Symmetric([0 0 0; 0 1 1; 0 0 1]),\n",
    "        [[0,0,1]],\n",
    "        -Symmetric([0 0 0; 0 0 1; 0 0 0])]\n",
    "\n",
    "F  = PMO.sdp(([0,0,1], \"inf\"),\n",
    "             (LMI1, \">=0\"),\n",
    "             ([1, 1, 0 , -1], \"=0\"),\n",
    "             ([1, 0, 0 ], \">=0\"),\n",
    "             ([0, 1, 0 ], \">=0\")\n",
    "             )\n",
    "F[:name] = \"A second example\"\n",
    "F[:doc] =\n",
    "    \"\"\"\n",
    "    one LMI with one rank-1 matrix, 3 linear scalar constraints\n",
    "    \"\"\""
   ]
  },
  {
   "cell_type": "markdown",
   "metadata": {},
   "source": [
    "Here in `LMI1`, the third matrix is a low rank matrix, represented as a vector of vectors $u_i$ corresponding to $\\sum_i u_i\\otimes u_i$."
   ]
  },
  {
   "cell_type": "code",
   "execution_count": 10,
   "metadata": {},
   "outputs": [
    {
     "name": "stdout",
     "output_type": "stream",
     "text": [
      "{\n",
      "  \"type\": \"sdp\",\n",
      "  \"nvar\": 3,\n",
      "  \"objective\": [0,0,1],\n",
      "  \"constraints\": {\n",
      "    \"nlmi\": 1,\n",
      "    \"msizes\": 3,\n",
      "    \"lmi_symat\": [\n",
      "      [2.0,1,1,1,1],\n",
      "      [1.0,1,1,2,1],\n",
      "      [1.0,1,1,2,2],\n",
      "      [1.0,2,1,2,2],\n",
      "      [1.0,2,1,3,2],\n",
      "      [1.0,2,1,3,3],\n",
      "      [-1.0,0,1,3,2]\n",
      "    ],\n",
      "    \"lmi_lrmat\": [\n",
      "      [1.0,3,1,1,3]\n",
      "    ],\n",
      "    \"nlsi\": 3,\n",
      "    \"lsi_mat\": [\n",
      "      [1.0,1,1],\n",
      "      [1.0,1,2],\n",
      "      [1.0,2,1],\n",
      "      [1.0,3,2]\n",
      "    ],\n",
      "    \"lsi_vec\": [1.0,0.0,0.0],\n",
      "    \"lsi_op\": [0,1,1]\n",
      "  },\n",
      "  \"version\": \"0.0.1\",\n",
      "  \"uuid\": \"ddfb4c7a-9154-11eb-35f5-8bb85263cdd6\",\n",
      "  \"name\": \"A second example\",\n",
      "  \"doc\": \"one LMI with one rank-1 matrix, 3 linear scalar constraints\\n\"\n",
      "}\n"
     ]
    }
   ],
   "source": [
    "PMO.write(\"tmp.json\",F)\n",
    "G  = PMO.read(\"tmp.json\")\n",
    "PMO.write(G)"
   ]
  },
  {
   "cell_type": "markdown",
   "metadata": {},
   "source": [
    "## Registering and reading data"
   ]
  },
  {
   "cell_type": "markdown",
   "metadata": {},
   "source": [
    "The PMO data base is loaded as follows:"
   ]
  },
  {
   "cell_type": "code",
   "execution_count": 11,
   "metadata": {},
   "outputs": [
    {
     "data": {
      "text/plain": [
       "PMO.DataBase(Table with 12 rows, 3 columns:\n",
       "Columns:\n",
       "\u001b[1m#  \u001b[22m\u001b[1mcolname  \u001b[22m\u001b[1mtype\u001b[22m\n",
       "──────────────────\n",
       "1  uuid     String\n",
       "2  name     String\n",
       "3  url      String)"
      ]
     },
     "execution_count": 11,
     "metadata": {},
     "output_type": "execute_result"
    }
   ],
   "source": [
    "using PMO\n",
    "t = PMO.table()"
   ]
  },
  {
   "cell_type": "markdown",
   "metadata": {},
   "source": [
    "It is a table of triplets `(uuid , name, url)` of a unique identifier `uuid`, a `name` containing tags to recover easily the data and the `url` of the file containing the data. This table only contains references to the PMO data. These data files are available in the local folder `$HOME/.julia/PMO/data`. "
   ]
  },
  {
   "cell_type": "markdown",
   "metadata": {},
   "source": [
    "## Selecting data"
   ]
  },
  {
   "cell_type": "markdown",
   "metadata": {},
   "source": [
    "Data can be selected from their `:name` attribute, by regular expressions or matching strings."
   ]
  },
  {
   "cell_type": "code",
   "execution_count": 12,
   "metadata": {},
   "outputs": [
    {
     "data": {
      "text/plain": [
       "PMO.DataBase(Table with 3 rows, 3 columns:\n",
       "Columns:\n",
       "\u001b[1m#  \u001b[22m\u001b[1mcolname  \u001b[22m\u001b[1mtype\u001b[22m\n",
       "──────────────────\n",
       "1  uuid     String\n",
       "2  name     String\n",
       "3  url      String)"
      ]
     },
     "execution_count": 12,
     "metadata": {},
     "output_type": "execute_result"
    }
   ],
   "source": [
    "t2 = select(t,r\"[Mm]otz\")\n",
    "t3 = select(t,\"Motzkin\")"
   ]
  },
  {
   "cell_type": "markdown",
   "metadata": {},
   "source": [
    "This gives new tables `t2, t3` of triplets `(uuid,name,url)` (Here with 3 rows). \n",
    "\n",
    "To select one column of such a table, one can do the following:"
   ]
  },
  {
   "cell_type": "code",
   "execution_count": 13,
   "metadata": {},
   "outputs": [
    {
     "data": {
      "text/plain": [
       "3-element WeakRefStrings.StringArray{String,1}:\n",
       " \"Motzkin\"            \n",
       " \"Motzkin homogeneous\"\n",
       " \"Motzkin bounded\"    "
      ]
     },
     "execution_count": 13,
     "metadata": {},
     "output_type": "execute_result"
    }
   ],
   "source": [
    "select(t2, :name)"
   ]
  },
  {
   "cell_type": "markdown",
   "metadata": {},
   "source": [
    "We can recover the i$^{th}$ entry of the table as follows:"
   ]
  },
  {
   "cell_type": "code",
   "execution_count": 14,
   "metadata": {},
   "outputs": [
    {
     "data": {
      "text/plain": [
       "Optimisation model:\n",
       "  type => polynomial\n",
       "  variables => Any[\"x\", \"y\"]\n",
       "  nvar => 2\n",
       "  objective => inf x^4*y^2 + x^2*y^4 - 3*x^2*y^2 + 1\n",
       "  name => Motzkin\n",
       "  version => 0.0.1\n",
       "  author => Bernard Mourrain\n",
       "  uuid => cb46cb04-83db-11ea-0b43-87115082d076\n",
       "  doc => Celebrate Motzkin polynomial, which is a non-negative polynomial, but not a Sum of Squares\n",
       "\n"
      ]
     },
     "execution_count": 14,
     "metadata": {},
     "output_type": "execute_result"
    }
   ],
   "source": [
    "t2[1]"
   ]
  },
  {
   "cell_type": "markdown",
   "metadata": {},
   "source": [
    "Data can also be recovered from regular expressions matching their names:"
   ]
  },
  {
   "cell_type": "code",
   "execution_count": 15,
   "metadata": {},
   "outputs": [
    {
     "data": {
      "text/plain": [
       "3-element Array{Any,1}:\n",
       " Optimisation model:\n",
       "  type => polynomial\n",
       "  variables => Any[\"x\", \"y\"]\n",
       "  nvar => 2\n",
       "  objective => inf x^4*y^2 + x^2*y^4 - 3*x^2*y^2 + 1\n",
       "  name => Motzkin\n",
       "  version => 0.0.1\n",
       "  author => Bernard Mourrain\n",
       "  uuid => cb46cb04-83db-11ea-0b43-87115082d076\n",
       "  doc => Celebrate Motzkin polynomial, which is a non-negative polynomial, but not a Sum of Squares\n",
       "\n",
       "                          \n",
       " Optimisation model:\n",
       "  type => polynomial\n",
       "  variables => Any[\"x\", \"y\", \"z\"]\n",
       "  nvar => 3\n",
       "  constraints => [ x^2 + y^2 + z^2 - 1 =0 ]\n",
       "  objective => inf x^4*y^2 + x^2*y^4 - 3*x^2*y^2*z^2 + z^6\n",
       "  version => 0.0.2\n",
       "  uuid => e46b1efe-0a05-11eb-198e-0912f9f7d742\n",
       "  name => Motzkin homogeneous\n",
       "  doc => Homogeneous Motzkin polynomial on the unit sphere\n",
       "\n",
       "  author => Bernard Mourrain\n",
       "\n",
       " Optimisation model:\n",
       "  type => polynomial\n",
       "  variables => Any[\"x\", \"y\"]\n",
       "  nvar => 2\n",
       "  constraints => [ -x^2 - y^2 + 2 >=0 ]\n",
       "  objective => inf x^4*y^2 + x^2*y^4 - 3*x^2*y^2 + 1\n",
       "  version => 0.0.2\n",
       "  uuid => dab9e7be-19fa-11eb-329b-c5570aaed8a0\n",
       "  name => Motzkin bounded\n",
       "  author => Bernard Mourrain\n",
       "                                                                               "
      ]
     },
     "execution_count": 15,
     "metadata": {},
     "output_type": "execute_result"
    }
   ],
   "source": [
    "t2[r\"Motz.\"]"
   ]
  },
  {
   "cell_type": "markdown",
   "metadata": {},
   "source": [
    "or equivalently the elements, which name contains \"Motz\":"
   ]
  },
  {
   "cell_type": "code",
   "execution_count": 16,
   "metadata": {},
   "outputs": [
    {
     "data": {
      "text/plain": [
       "3-element Array{PMO.Data,1}:\n",
       " Optimisation model:\n",
       "  type => polynomial\n",
       "  variables => Any[\"x\", \"y\"]\n",
       "  nvar => 2\n",
       "  objective => inf x^4*y^2 + x^2*y^4 - 3*x^2*y^2 + 1\n",
       "  name => Motzkin\n",
       "  version => 0.0.1\n",
       "  author => Bernard Mourrain\n",
       "  uuid => cb46cb04-83db-11ea-0b43-87115082d076\n",
       "  doc => Celebrate Motzkin polynomial, which is a non-negative polynomial, but not a Sum of Squares\n",
       "\n",
       "                          \n",
       " Optimisation model:\n",
       "  type => polynomial\n",
       "  variables => Any[\"x\", \"y\", \"z\"]\n",
       "  nvar => 3\n",
       "  constraints => [ x^2 + y^2 + z^2 - 1 =0 ]\n",
       "  objective => inf x^4*y^2 + x^2*y^4 - 3*x^2*y^2*z^2 + z^6\n",
       "  version => 0.0.2\n",
       "  uuid => e46b1efe-0a05-11eb-198e-0912f9f7d742\n",
       "  name => Motzkin homogeneous\n",
       "  doc => Homogeneous Motzkin polynomial on the unit sphere\n",
       "\n",
       "  author => Bernard Mourrain\n",
       "\n",
       " Optimisation model:\n",
       "  type => polynomial\n",
       "  variables => Any[\"x\", \"y\"]\n",
       "  nvar => 2\n",
       "  constraints => [ -x^2 - y^2 + 2 >=0 ]\n",
       "  objective => inf x^4*y^2 + x^2*y^4 - 3*x^2*y^2 + 1\n",
       "  version => 0.0.2\n",
       "  uuid => dab9e7be-19fa-11eb-329b-c5570aaed8a0\n",
       "  name => Motzkin bounded\n",
       "  author => Bernard Mourrain\n",
       "                                                                               "
      ]
     },
     "execution_count": 16,
     "metadata": {},
     "output_type": "execute_result"
    }
   ],
   "source": [
    "m = t3[\"Motz\"]"
   ]
  },
  {
   "cell_type": "markdown",
   "metadata": {},
   "source": [
    "The PMO data can be transformed with `vec` into an array of pairs of polynomials and constraints that can be easily used in other functions: "
   ]
  },
  {
   "cell_type": "code",
   "execution_count": 17,
   "metadata": {},
   "outputs": [
    {
     "data": {
      "text/plain": [
       "4-element Array{Any,1}:\n",
       " (x⁴ + x²y² - y³, \"inf\")                \n",
       " (x² + 3.141592653589793y² - 2.0, \"<=0\")\n",
       " (x, Any[-1, 1])                        \n",
       " (2y² - y, \"=0\")                        "
      ]
     },
     "execution_count": 17,
     "metadata": {},
     "output_type": "execute_result"
    }
   ],
   "source": [
    "P = vec(t[1])"
   ]
  },
  {
   "cell_type": "markdown",
   "metadata": {},
   "source": [
    "Here is an illustration with the packages `MomentTools`, `MosekTools`, using the functions `vec` and `variables`:"
   ]
  },
  {
   "cell_type": "code",
   "execution_count": 18,
   "metadata": {},
   "outputs": [
    {
     "data": {
      "text/plain": [
       "Optimisation model:\n",
       "  type => polynomial\n",
       "  variables => Any[\"x\", \"y\"]\n",
       "  nvar => 2\n",
       "  constraints => [ -x^2 - y^2 + 2 >=0 ]\n",
       "  objective => inf x^4*y^2 + x^2*y^4 - 3*x^2*y^2 + 1\n",
       "  version => 0.0.2\n",
       "  uuid => dab9e7be-19fa-11eb-329b-c5570aaed8a0\n",
       "  name => Motzkin bounded\n",
       "  author => Bernard Mourrain\n"
      ]
     },
     "execution_count": 18,
     "metadata": {},
     "output_type": "execute_result"
    }
   ],
   "source": [
    " P = t[r\"Motz.*bound\"][1]"
   ]
  },
  {
   "cell_type": "code",
   "execution_count": 19,
   "metadata": {},
   "outputs": [
    {
     "data": {
      "text/plain": [
       "2×4 Array{Float64,2}:\n",
       " -0.999949  -0.999949   0.999949  0.999949\n",
       " -0.999949   0.999949  -0.999949  0.999949"
      ]
     },
     "execution_count": 19,
     "metadata": {},
     "output_type": "execute_result"
    }
   ],
   "source": [
    "using MomentTools, MosekTools, JuMP\n",
    "#optimizer = Mosek.Optimizer    #with verbose execution\n",
    "optimizer = optimizer_with_attributes(Mosek.Optimizer, \"QUIET\"=>true)  #with option \"quiet\" for silent execution.\n",
    "v, M = optimize(vec(P),variables(P), 3, optimizer)     #Moment relaxation at order 3\n",
    "get_minimizers(M)"
   ]
  },
  {
   "cell_type": "markdown",
   "metadata": {},
   "source": [
    "## Updating the database"
   ]
  },
  {
   "cell_type": "markdown",
   "metadata": {},
   "source": [
    "The database can be updated from the git server as follows:"
   ]
  },
  {
   "cell_type": "code",
   "execution_count": 20,
   "metadata": {},
   "outputs": [
    {
     "name": "stderr",
     "output_type": "stream",
     "text": [
      "┌ Info: PMO update data\n",
      "└ @ PMO /Users/mourrain/Julia/PMO.jl/src/register.jl:40\n"
     ]
    },
    {
     "data": {
      "text/plain": [
       "Table with 12 rows, 3 columns:\n",
       "Columns:\n",
       "\u001b[1m#  \u001b[22m\u001b[1mcolname  \u001b[22m\u001b[1mtype\u001b[22m\n",
       "──────────────────\n",
       "1  uuid     String\n",
       "2  name     String\n",
       "3  url      String"
      ]
     },
     "execution_count": 20,
     "metadata": {},
     "output_type": "execute_result"
    }
   ],
   "source": [
    "update(t)"
   ]
  },
  {
   "cell_type": "markdown",
   "metadata": {},
   "source": [
    "#### Adding new data\n",
    "\n",
    "New data can be added as follows. First we create the data:"
   ]
  },
  {
   "cell_type": "code",
   "execution_count": 21,
   "metadata": {},
   "outputs": [
    {
     "data": {
      "text/plain": [
       "\"Motzkin bounded\""
      ]
     },
     "execution_count": 21,
     "metadata": {},
     "output_type": "execute_result"
    }
   ],
   "source": [
    "using PMO, DynamicPolynomials\n",
    "X = @polyvar x y\n",
    "motz = x^4*y^2 + x^2*y^4 + 1 - 3*x^2*y^2\n",
    "\n",
    "Motz = PMO.data((motz,\"inf\"), (2-x^2-y^2, \">=0\"))\n",
    "Motz[:name] = \"Motzkin bounded\""
   ]
  },
  {
   "cell_type": "markdown",
   "metadata": {},
   "source": [
    "Now we push it in the database with the file name `motzkin_bounded`:"
   ]
  },
  {
   "cell_type": "code",
   "execution_count": 22,
   "metadata": {},
   "outputs": [
    {
     "name": "stderr",
     "output_type": "stream",
     "text": [
      "┌ Warning: data[:author] not defined; data not pushed to database\n",
      "└ @ PMO /Users/mourrain/Julia/PMO.jl/src/register.jl:296\n"
     ]
    }
   ],
   "source": [
    "t = PMO.table()\n",
    "push(t, Motz, file=\"motzkin_bounded\")"
   ]
  },
  {
   "cell_type": "markdown",
   "metadata": {},
   "source": [
    "The name `motzkin_bounded` specifies the file used to store the data. \n",
    "\n",
    "Here we get a warning because the attribute `:author` is not defined in Motz. So we define it and retry:"
   ]
  },
  {
   "cell_type": "code",
   "execution_count": 23,
   "metadata": {},
   "outputs": [
    {
     "name": "stderr",
     "output_type": "stream",
     "text": [
      "┌ Info: PMO update data\n",
      "└ @ PMO /Users/mourrain/Julia/PMO.jl/src/register.jl:40\n",
      "┌ Info: PMO data motzkin_bounded.json already exists\n",
      "└ @ PMO /Users/mourrain/Julia/PMO.jl/src/register.jl:116\n",
      "┌ Info: PMO add data motzkin_bounded.1.json\n",
      "└ @ PMO /Users/mourrain/Julia/PMO.jl/src/register.jl:129\n",
      "┌ Info: PMO update registery\n",
      "└ @ PMO /Users/mourrain/Julia/PMO.jl/src/register.jl:176\n",
      "┌ Info: PMO update data\n",
      "└ @ PMO /Users/mourrain/Julia/PMO.jl/src/register.jl:40\n",
      "┌ Info: PMO update table\n",
      "└ @ PMO /Users/mourrain/Julia/PMO.jl/src/register.jl:306\n"
     ]
    }
   ],
   "source": [
    "Motz[:author] = \"Joe Test\"\n",
    "push(t, Motz, file=\"motzkin_bounded\")"
   ]
  },
  {
   "cell_type": "markdown",
   "metadata": {},
   "source": [
    "We see that the file name `motzkin_bounded` is already used so that the data is stored as the file `motzkin_bounded.1.json` in the folder `json`of the data project `PMO.PMO_GIT_DATA_URL`. The index table of the registry folder is updated with a line per data. A local version of the data bases and index files are updated; `git` command to commit and push the changes on the `git` projects."
   ]
  },
  {
   "cell_type": "markdown",
   "metadata": {},
   "source": [
    "Data can be removed from the database as follows:"
   ]
  },
  {
   "cell_type": "code",
   "execution_count": 24,
   "metadata": {},
   "outputs": [
    {
     "name": "stderr",
     "output_type": "stream",
     "text": [
      "┌ Info: PMO remove data motzkin_bounded.1.json\n",
      "└ @ PMO /Users/mourrain/Julia/PMO.jl/src/register.jl:107\n"
     ]
    }
   ],
   "source": [
    "PMO.rm(t, Motz)"
   ]
  },
  {
   "cell_type": "markdown",
   "metadata": {},
   "source": [
    "#### Modifying a data \n",
    "\n",
    "Here, it is showing how to modify an element and update of the database:"
   ]
  },
  {
   "cell_type": "code",
   "execution_count": 25,
   "metadata": {},
   "outputs": [
    {
     "data": {
      "text/plain": [
       "\"Celebrate Motzkin polynomial, which is a non-negative polynomial, but not a Sum of Squares\\n\""
      ]
     },
     "execution_count": 25,
     "metadata": {},
     "output_type": "execute_result"
    }
   ],
   "source": [
    "F = t[2]\n",
    "\n",
    "F[:doc] = \"\"\"\n",
    "Celebrate Motzkin polynomial, which is a non-negative polynomial, but not a Sum of Squares\n",
    "\"\"\""
   ]
  },
  {
   "cell_type": "markdown",
   "metadata": {},
   "source": [
    "To update of the database element of the table `t`:"
   ]
  },
  {
   "cell_type": "code",
   "execution_count": 26,
   "metadata": {},
   "outputs": [
    {
     "name": "stderr",
     "output_type": "stream",
     "text": [
      "┌ Warning: same data; no commit and push\n",
      "└ @ PMO /Users/mourrain/Julia/PMO.jl/src/register.jl:314\n"
     ]
    }
   ],
   "source": [
    "push(t,F)"
   ]
  },
  {
   "cell_type": "markdown",
   "metadata": {},
   "source": [
    "The data would modified localy and on the `git` server. Here, because it is the same text, there is a warning saying that no modification is commited on the `git`server."
   ]
  },
  {
   "cell_type": "code",
   "execution_count": 27,
   "metadata": {},
   "outputs": [
    {
     "data": {
      "text/plain": [
       "Optimisation model:\n",
       "  type => polynomial\n",
       "  variables => Any[\"x\", \"y\"]\n",
       "  nvar => 2\n",
       "  objective => inf x^4*y^2 + x^2*y^4 - 3*x^2*y^2 + 1\n",
       "  name => Motzkin\n",
       "  version => 0.0.1\n",
       "  author => Bernard Mourrain\n",
       "  uuid => cb46cb04-83db-11ea-0b43-87115082d076\n",
       "  doc => Celebrate Motzkin polynomial, which is a non-negative polynomial, but not a Sum of Squares\n",
       "\n"
      ]
     },
     "execution_count": 27,
     "metadata": {},
     "output_type": "execute_result"
    }
   ],
   "source": [
    "t[2]"
   ]
  },
  {
   "cell_type": "markdown",
   "metadata": {},
   "source": [
    "#### Managing tables\n",
    "\n",
    "Tables can be saved and loaded from files, as illustrated in the following example.\n",
    "\n",
    "Suppose you want to work on all data related to `Motzkin`. First, you can select them from the PMO database and build a new database `tm`:"
   ]
  },
  {
   "cell_type": "code",
   "execution_count": 28,
   "metadata": {},
   "outputs": [
    {
     "data": {
      "text/plain": [
       "PMO.DataBase(Table with 3 rows, 3 columns:\n",
       "Columns:\n",
       "\u001b[1m#  \u001b[22m\u001b[1mcolname  \u001b[22m\u001b[1mtype\u001b[22m\n",
       "──────────────────\n",
       "1  uuid     String\n",
       "2  name     String\n",
       "3  url      String)"
      ]
     },
     "execution_count": 28,
     "metadata": {},
     "output_type": "execute_result"
    }
   ],
   "source": [
    "using PMO\n",
    "t = PMO.table()\n",
    "tm = select(t,\"Motz\")"
   ]
  },
  {
   "cell_type": "markdown",
   "metadata": {},
   "source": [
    "Next you can save it in a file`motztable.csv` for futur use:"
   ]
  },
  {
   "cell_type": "code",
   "execution_count": 29,
   "metadata": {},
   "outputs": [],
   "source": [
    "PMO.write(\"motztable.csv\",tm)"
   ]
  },
  {
   "cell_type": "markdown",
   "metadata": {},
   "source": [
    "Once saved in this file, the table can be reloaded without loading the complete PMO database, as follows:"
   ]
  },
  {
   "cell_type": "code",
   "execution_count": 30,
   "metadata": {},
   "outputs": [
    {
     "data": {
      "text/plain": [
       "PMO.DataBase(Table with 3 rows, 3 columns:\n",
       "Columns:\n",
       "\u001b[1m#  \u001b[22m\u001b[1mcolname  \u001b[22m\u001b[1mtype\u001b[22m\n",
       "──────────────────\n",
       "1  uuid     String\n",
       "2  name     String\n",
       "3  url      String)"
      ]
     },
     "execution_count": 30,
     "metadata": {},
     "output_type": "execute_result"
    }
   ],
   "source": [
    "ts = PMO.table(\"motztable.csv\")"
   ]
  }
 ],
 "metadata": {
  "@webio": {
   "lastCommId": null,
   "lastKernelId": null
  },
  "kernelspec": {
   "display_name": "Julia 1.3.1",
   "language": "julia",
   "name": "julia-1.3"
  },
  "language_info": {
   "file_extension": ".jl",
   "mimetype": "application/julia",
   "name": "julia",
   "version": "1.3.1"
  }
 },
 "nbformat": 4,
 "nbformat_minor": 2
}
